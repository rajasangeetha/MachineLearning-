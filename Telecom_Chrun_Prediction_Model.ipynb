{
 "cells": [
  {
   "cell_type": "markdown",
   "id": "94c1afa9-6d81-4005-ae3b-d9586cf91a02",
   "metadata": {},
   "source": [
    "##### Imports"
   ]
  },
  {
   "cell_type": "code",
   "execution_count": 2,
   "id": "3231ad55-78f9-4b02-9310-d0510e555515",
   "metadata": {},
   "outputs": [],
   "source": [
    "import pandas as pd\n",
    "import numpy as np\n",
    "import matplotlib.pyplot as plt\n",
    "%matplotlib inline"
   ]
  },
  {
   "cell_type": "code",
   "execution_count": 6,
   "id": "65a6ae1f-7cce-4922-84bd-86f5306d4185",
   "metadata": {},
   "outputs": [],
   "source": [
    "telecomdf=pd.read_csv(\"Telecom Churn Data SingTel.csv\")"
   ]
  },
  {
   "cell_type": "code",
   "execution_count": 10,
   "id": "4e89a933-b904-4c82-aa17-1f737e982a9b",
   "metadata": {},
   "outputs": [
    {
     "name": "stdout",
     "output_type": "stream",
     "text": [
      "<class 'pandas.core.frame.DataFrame'>\n",
      "RangeIndex: 5000 entries, 0 to 4999\n",
      "Data columns (total 21 columns):\n",
      " #   Column                          Non-Null Count  Dtype  \n",
      "---  ------                          --------------  -----  \n",
      " 0   State                           5000 non-null   object \n",
      " 1   Account Length                  5000 non-null   int64  \n",
      " 2   Area Code                       5000 non-null   int64  \n",
      " 3   Phone Number                    5000 non-null   object \n",
      " 4   International Plan              5000 non-null   object \n",
      " 5   Voice mail Plan                 5000 non-null   object \n",
      " 6   Num of Voice mail Messages      5000 non-null   int64  \n",
      " 7   Total Day Minutes               5000 non-null   float64\n",
      " 8   Total Day Calls                 5000 non-null   int64  \n",
      " 9   Total day Charge                5000 non-null   float64\n",
      " 10  Total Eve Minutes               5000 non-null   float64\n",
      " 11  Total Eve Calls                 5000 non-null   int64  \n",
      " 12  Total Eve Charge                5000 non-null   float64\n",
      " 13  Total Night Minutes             5000 non-null   float64\n",
      " 14  Total Night Calls               5000 non-null   int64  \n",
      " 15  Total Night Charge              5000 non-null   float64\n",
      " 16  Total International Minutes     5000 non-null   float64\n",
      " 17  Total Intl  Calls               5000 non-null   int64  \n",
      " 18  Total Intl Charge               5000 non-null   float64\n",
      " 19  Number Customer Service calls   5000 non-null   int64  \n",
      " 20  Churn                           5000 non-null   object \n",
      "dtypes: float64(8), int64(8), object(5)\n",
      "memory usage: 820.4+ KB\n"
     ]
    }
   ],
   "source": [
    "telecomdf.info()\n",
    "# If Any of the columns have Non-Null less tha total entires\n",
    "# then we have missing values. Here we don't have missing values"
   ]
  },
  {
   "cell_type": "code",
   "execution_count": 12,
   "id": "75a8a9d4-bf0b-405d-bd65-0f99b8e4bc5c",
   "metadata": {},
   "outputs": [
    {
     "data": {
      "text/html": [
       "<div>\n",
       "<style scoped>\n",
       "    .dataframe tbody tr th:only-of-type {\n",
       "        vertical-align: middle;\n",
       "    }\n",
       "\n",
       "    .dataframe tbody tr th {\n",
       "        vertical-align: top;\n",
       "    }\n",
       "\n",
       "    .dataframe thead th {\n",
       "        text-align: right;\n",
       "    }\n",
       "</style>\n",
       "<table border=\"1\" class=\"dataframe\">\n",
       "  <thead>\n",
       "    <tr style=\"text-align: right;\">\n",
       "      <th></th>\n",
       "      <th>State</th>\n",
       "      <th>Account Length</th>\n",
       "      <th>Area Code</th>\n",
       "      <th>Phone Number</th>\n",
       "      <th>International Plan</th>\n",
       "      <th>Voice mail Plan</th>\n",
       "      <th>Num of Voice mail Messages</th>\n",
       "      <th>Total Day Minutes</th>\n",
       "      <th>Total Day Calls</th>\n",
       "      <th>Total day Charge</th>\n",
       "      <th>...</th>\n",
       "      <th>Total Eve Calls</th>\n",
       "      <th>Total Eve Charge</th>\n",
       "      <th>Total Night Minutes</th>\n",
       "      <th>Total Night Calls</th>\n",
       "      <th>Total Night Charge</th>\n",
       "      <th>Total International Minutes</th>\n",
       "      <th>Total Intl  Calls</th>\n",
       "      <th>Total Intl Charge</th>\n",
       "      <th>Number Customer Service calls</th>\n",
       "      <th>Churn</th>\n",
       "    </tr>\n",
       "  </thead>\n",
       "  <tbody>\n",
       "    <tr>\n",
       "      <th>0</th>\n",
       "      <td>KS</td>\n",
       "      <td>128</td>\n",
       "      <td>415</td>\n",
       "      <td>382-4657</td>\n",
       "      <td>no</td>\n",
       "      <td>yes</td>\n",
       "      <td>25</td>\n",
       "      <td>265.1</td>\n",
       "      <td>110</td>\n",
       "      <td>45.07</td>\n",
       "      <td>...</td>\n",
       "      <td>99</td>\n",
       "      <td>16.78</td>\n",
       "      <td>244.7</td>\n",
       "      <td>91</td>\n",
       "      <td>11.01</td>\n",
       "      <td>10.0</td>\n",
       "      <td>3</td>\n",
       "      <td>2.70</td>\n",
       "      <td>1</td>\n",
       "      <td>False.</td>\n",
       "    </tr>\n",
       "    <tr>\n",
       "      <th>1</th>\n",
       "      <td>OH</td>\n",
       "      <td>107</td>\n",
       "      <td>415</td>\n",
       "      <td>371-7191</td>\n",
       "      <td>no</td>\n",
       "      <td>yes</td>\n",
       "      <td>26</td>\n",
       "      <td>161.6</td>\n",
       "      <td>123</td>\n",
       "      <td>27.47</td>\n",
       "      <td>...</td>\n",
       "      <td>103</td>\n",
       "      <td>16.62</td>\n",
       "      <td>254.4</td>\n",
       "      <td>103</td>\n",
       "      <td>11.45</td>\n",
       "      <td>13.7</td>\n",
       "      <td>3</td>\n",
       "      <td>3.70</td>\n",
       "      <td>1</td>\n",
       "      <td>False.</td>\n",
       "    </tr>\n",
       "    <tr>\n",
       "      <th>2</th>\n",
       "      <td>NJ</td>\n",
       "      <td>137</td>\n",
       "      <td>415</td>\n",
       "      <td>358-1921</td>\n",
       "      <td>no</td>\n",
       "      <td>no</td>\n",
       "      <td>0</td>\n",
       "      <td>243.4</td>\n",
       "      <td>114</td>\n",
       "      <td>41.38</td>\n",
       "      <td>...</td>\n",
       "      <td>110</td>\n",
       "      <td>10.30</td>\n",
       "      <td>162.6</td>\n",
       "      <td>104</td>\n",
       "      <td>7.32</td>\n",
       "      <td>12.2</td>\n",
       "      <td>5</td>\n",
       "      <td>3.29</td>\n",
       "      <td>0</td>\n",
       "      <td>False.</td>\n",
       "    </tr>\n",
       "  </tbody>\n",
       "</table>\n",
       "<p>3 rows × 21 columns</p>\n",
       "</div>"
      ],
      "text/plain": [
       "  State  Account Length  Area Code Phone Number International Plan  \\\n",
       "0    KS             128        415     382-4657                 no   \n",
       "1    OH             107        415     371-7191                 no   \n",
       "2    NJ             137        415     358-1921                 no   \n",
       "\n",
       "  Voice mail Plan  Num of Voice mail Messages  Total Day Minutes  \\\n",
       "0             yes                          25              265.1   \n",
       "1             yes                          26              161.6   \n",
       "2              no                           0              243.4   \n",
       "\n",
       "   Total Day Calls  Total day Charge  ...  Total Eve Calls  Total Eve Charge  \\\n",
       "0              110             45.07  ...               99             16.78   \n",
       "1              123             27.47  ...              103             16.62   \n",
       "2              114             41.38  ...              110             10.30   \n",
       "\n",
       "   Total Night Minutes  Total Night Calls   Total Night Charge  \\\n",
       "0                244.7                  91               11.01   \n",
       "1                254.4                 103               11.45   \n",
       "2                162.6                 104                7.32   \n",
       "\n",
       "   Total International Minutes  Total Intl  Calls  Total Intl Charge  \\\n",
       "0                         10.0                  3               2.70   \n",
       "1                         13.7                  3               3.70   \n",
       "2                         12.2                  5               3.29   \n",
       "\n",
       "   Number Customer Service calls     Churn  \n",
       "0                               1   False.  \n",
       "1                               1   False.  \n",
       "2                               0   False.  \n",
       "\n",
       "[3 rows x 21 columns]"
      ]
     },
     "execution_count": 12,
     "metadata": {},
     "output_type": "execute_result"
    }
   ],
   "source": [
    "telecomdf.head(3)"
   ]
  },
  {
   "cell_type": "code",
   "execution_count": 14,
   "id": "90af68cc-d956-4e54-9901-c81211dae1fe",
   "metadata": {},
   "outputs": [
    {
     "data": {
      "text/html": [
       "<div>\n",
       "<style scoped>\n",
       "    .dataframe tbody tr th:only-of-type {\n",
       "        vertical-align: middle;\n",
       "    }\n",
       "\n",
       "    .dataframe tbody tr th {\n",
       "        vertical-align: top;\n",
       "    }\n",
       "\n",
       "    .dataframe thead th {\n",
       "        text-align: right;\n",
       "    }\n",
       "</style>\n",
       "<table border=\"1\" class=\"dataframe\">\n",
       "  <thead>\n",
       "    <tr style=\"text-align: right;\">\n",
       "      <th></th>\n",
       "      <th>State</th>\n",
       "      <th>Account Length</th>\n",
       "      <th>Area Code</th>\n",
       "      <th>Phone Number</th>\n",
       "      <th>International Plan</th>\n",
       "      <th>Voice mail Plan</th>\n",
       "      <th>Num of Voice mail Messages</th>\n",
       "      <th>Total Day Minutes</th>\n",
       "      <th>Total Day Calls</th>\n",
       "      <th>Total day Charge</th>\n",
       "      <th>...</th>\n",
       "      <th>Total Eve Calls</th>\n",
       "      <th>Total Eve Charge</th>\n",
       "      <th>Total Night Minutes</th>\n",
       "      <th>Total Night Calls</th>\n",
       "      <th>Total Night Charge</th>\n",
       "      <th>Total International Minutes</th>\n",
       "      <th>Total Intl  Calls</th>\n",
       "      <th>Total Intl Charge</th>\n",
       "      <th>Number Customer Service calls</th>\n",
       "      <th>Churn</th>\n",
       "    </tr>\n",
       "  </thead>\n",
       "  <tbody>\n",
       "    <tr>\n",
       "      <th>4997</th>\n",
       "      <td>DC</td>\n",
       "      <td>61</td>\n",
       "      <td>415</td>\n",
       "      <td>333-6861</td>\n",
       "      <td>no</td>\n",
       "      <td>no</td>\n",
       "      <td>0</td>\n",
       "      <td>140.6</td>\n",
       "      <td>89</td>\n",
       "      <td>23.9</td>\n",
       "      <td>...</td>\n",
       "      <td>128</td>\n",
       "      <td>14.69</td>\n",
       "      <td>212.4</td>\n",
       "      <td>97</td>\n",
       "      <td>9.56</td>\n",
       "      <td>13.6</td>\n",
       "      <td>4</td>\n",
       "      <td>3.67</td>\n",
       "      <td>1</td>\n",
       "      <td>False.</td>\n",
       "    </tr>\n",
       "    <tr>\n",
       "      <th>4998</th>\n",
       "      <td>DC</td>\n",
       "      <td>109</td>\n",
       "      <td>510</td>\n",
       "      <td>394-2206</td>\n",
       "      <td>no</td>\n",
       "      <td>no</td>\n",
       "      <td>0</td>\n",
       "      <td>188.8</td>\n",
       "      <td>67</td>\n",
       "      <td>32.1</td>\n",
       "      <td>...</td>\n",
       "      <td>92</td>\n",
       "      <td>14.59</td>\n",
       "      <td>224.4</td>\n",
       "      <td>89</td>\n",
       "      <td>10.10</td>\n",
       "      <td>8.5</td>\n",
       "      <td>6</td>\n",
       "      <td>2.30</td>\n",
       "      <td>0</td>\n",
       "      <td>False.</td>\n",
       "    </tr>\n",
       "    <tr>\n",
       "      <th>4999</th>\n",
       "      <td>VT</td>\n",
       "      <td>86</td>\n",
       "      <td>415</td>\n",
       "      <td>373-8058</td>\n",
       "      <td>no</td>\n",
       "      <td>yes</td>\n",
       "      <td>34</td>\n",
       "      <td>129.4</td>\n",
       "      <td>102</td>\n",
       "      <td>22.0</td>\n",
       "      <td>...</td>\n",
       "      <td>104</td>\n",
       "      <td>22.70</td>\n",
       "      <td>154.8</td>\n",
       "      <td>100</td>\n",
       "      <td>6.97</td>\n",
       "      <td>9.3</td>\n",
       "      <td>16</td>\n",
       "      <td>2.51</td>\n",
       "      <td>0</td>\n",
       "      <td>False.</td>\n",
       "    </tr>\n",
       "  </tbody>\n",
       "</table>\n",
       "<p>3 rows × 21 columns</p>\n",
       "</div>"
      ],
      "text/plain": [
       "     State  Account Length  Area Code Phone Number International Plan  \\\n",
       "4997    DC              61        415     333-6861                 no   \n",
       "4998    DC             109        510     394-2206                 no   \n",
       "4999    VT              86        415     373-8058                 no   \n",
       "\n",
       "     Voice mail Plan  Num of Voice mail Messages  Total Day Minutes  \\\n",
       "4997              no                           0              140.6   \n",
       "4998              no                           0              188.8   \n",
       "4999             yes                          34              129.4   \n",
       "\n",
       "      Total Day Calls  Total day Charge  ...  Total Eve Calls  \\\n",
       "4997               89              23.9  ...              128   \n",
       "4998               67              32.1  ...               92   \n",
       "4999              102              22.0  ...              104   \n",
       "\n",
       "      Total Eve Charge  Total Night Minutes  Total Night Calls   \\\n",
       "4997             14.69                212.4                  97   \n",
       "4998             14.59                224.4                  89   \n",
       "4999             22.70                154.8                 100   \n",
       "\n",
       "      Total Night Charge  Total International Minutes  Total Intl  Calls  \\\n",
       "4997                9.56                         13.6                  4   \n",
       "4998               10.10                          8.5                  6   \n",
       "4999                6.97                          9.3                 16   \n",
       "\n",
       "      Total Intl Charge  Number Customer Service calls     Churn  \n",
       "4997               3.67                               1   False.  \n",
       "4998               2.30                               0   False.  \n",
       "4999               2.51                               0   False.  \n",
       "\n",
       "[3 rows x 21 columns]"
      ]
     },
     "execution_count": 14,
     "metadata": {},
     "output_type": "execute_result"
    }
   ],
   "source": [
    "telecomdf.tail(3)"
   ]
  },
  {
   "cell_type": "code",
   "execution_count": 16,
   "id": "f0d269bc-2f7a-4493-9ffc-e80174463a65",
   "metadata": {},
   "outputs": [
    {
     "data": {
      "text/plain": [
       "Index(['State', 'Account Length', 'Area Code', 'Phone Number',\n",
       "       'International Plan', 'Voice mail Plan', 'Num of Voice mail Messages',\n",
       "       'Total Day Minutes', 'Total Day Calls', 'Total day Charge',\n",
       "       'Total Eve Minutes', 'Total Eve Calls', 'Total Eve Charge',\n",
       "       'Total Night Minutes', 'Total Night Calls ', 'Total Night Charge',\n",
       "       'Total International Minutes', 'Total Intl  Calls', 'Total Intl Charge',\n",
       "       'Number Customer Service calls ', 'Churn'],\n",
       "      dtype='object')"
      ]
     },
     "execution_count": 16,
     "metadata": {},
     "output_type": "execute_result"
    }
   ],
   "source": [
    "telecomdf.columns"
   ]
  },
  {
   "cell_type": "code",
   "execution_count": 20,
   "id": "56673442-b3e8-4b37-a16a-1aaaaeb5da20",
   "metadata": {},
   "outputs": [
    {
     "name": "stdout",
     "output_type": "stream",
     "text": [
      "       Account Length  Number Customer Service calls \n",
      "count      5000.00000                     5000.000000\n",
      "mean        100.25860                        1.570400\n",
      "std          39.69456                        1.306363\n",
      "min           1.00000                        0.000000\n",
      "25%          73.00000                        1.000000\n",
      "50%         100.00000                        1.000000\n",
      "75%         127.00000                        2.000000\n",
      "max         243.00000                        9.000000\n"
     ]
    }
   ],
   "source": [
    "print(telecomdf[['Account Length','Number Customer Service calls ']].describe())"
   ]
  },
  {
   "cell_type": "code",
   "execution_count": 54,
   "id": "89f3ab07-2d10-430e-8eaa-da1723ab9aaa",
   "metadata": {},
   "outputs": [
    {
     "name": "stdout",
     "output_type": "stream",
     "text": [
      "       Account Length  Number Customer Service calls \n",
      "count      5000.00000                     5000.000000\n",
      "mean        100.25860                        1.570400\n",
      "std          39.69456                        1.306363\n",
      "min           1.00000                        0.000000\n",
      "25%          73.00000                        1.000000\n",
      "50%         100.00000                        1.000000\n",
      "75%         127.00000                        2.000000\n",
      "max         243.00000                        9.000000\n"
     ]
    }
   ],
   "source": [
    "# Get details using Numeric Indexing and desciptive statistics\n",
    "print(telecomdf.iloc[:,[1,19]].describe())"
   ]
  },
  {
   "cell_type": "code",
   "execution_count": 56,
   "id": "403194af-135c-4905-aa94-5ce401608e20",
   "metadata": {},
   "outputs": [
    {
     "name": "stdout",
     "output_type": "stream",
     "text": [
      "Skewness :  Account Length                    0.109291\n",
      "Number Customer Service calls     1.042462\n",
      "dtype: float64\n",
      "Kurtosis :  Account Length                   -0.101621\n",
      "Number Customer Service calls     1.481096\n",
      "dtype: float64\n"
     ]
    }
   ],
   "source": [
    "print(\"Skewness : \" , telecomdf[['Account Length','Number Customer Service calls ']].skew())\n",
    "print(\"Kurtosis : \" , telecomdf[['Account Length','Number Customer Service calls ']].kurtosis())"
   ]
  },
  {
   "cell_type": "code",
   "execution_count": 83,
   "id": "fb97b160-315c-4261-a5d0-2e260b823419",
   "metadata": {},
   "outputs": [
    {
     "data": {
      "text/plain": [
       "State\n",
       "WV    158\n",
       "MN    125\n",
       "AL    124\n",
       "ID    119\n",
       "VA    118\n",
       "OH    116\n",
       "TX    116\n",
       "WY    115\n",
       "NY    114\n",
       "OR    114\n",
       "NJ    112\n",
       "UT    112\n",
       "WI    106\n",
       "MI    103\n",
       "ME    103\n",
       "MA    103\n",
       "MD    102\n",
       "VT    101\n",
       "MT     99\n",
       "RI     99\n",
       "KY     99\n",
       "MS     99\n",
       "CT     99\n",
       "KS     99\n",
       "WA     98\n",
       "IN     98\n",
       "CO     96\n",
       "NH     95\n",
       "DE     94\n",
       "MO     93\n",
       "AR     92\n",
       "NM     91\n",
       "NC     91\n",
       "SC     91\n",
       "FL     90\n",
       "NV     90\n",
       "OK     90\n",
       "TN     89\n",
       "AZ     89\n",
       "DC     88\n",
       "IL     88\n",
       "NE     88\n",
       "ND     88\n",
       "HI     86\n",
       "SD     85\n",
       "GA     83\n",
       "LA     82\n",
       "PA     77\n",
       "AK     72\n",
       "IA     69\n",
       "CA     52\n",
       "Name: count, dtype: int64"
      ]
     },
     "execution_count": 83,
     "metadata": {},
     "output_type": "execute_result"
    }
   ],
   "source": [
    "# Frequency Counts if the variable is in Non Numeric format.\n",
    "# Numeric format then we can do descriptive statistics\n",
    "# Number of customer lines from each state\n",
    "telecomdf['State'].value_counts()"
   ]
  },
  {
   "cell_type": "code",
   "execution_count": 69,
   "id": "6135db5e-d875-4673-9d4c-a0c66ce13315",
   "metadata": {},
   "outputs": [
    {
     "data": {
      "text/plain": [
       "Churn\n",
       "False.    4293\n",
       "True.      707\n",
       "Name: count, dtype: int64"
      ]
     },
     "execution_count": 69,
     "metadata": {},
     "output_type": "execute_result"
    }
   ],
   "source": [
    "telecomdf.Churn.value_counts()\n",
    "# 4293 customers still having connection\n",
    "# 707 customers left"
   ]
  },
  {
   "cell_type": "code",
   "execution_count": 75,
   "id": "fce4da55-8e48-44f6-a04d-1e32e47943db",
   "metadata": {},
   "outputs": [
    {
     "data": {
      "text/plain": [
       "International Plan\n",
       "no     4527\n",
       "yes     473\n",
       "Name: count, dtype: int64"
      ]
     },
     "execution_count": 75,
     "metadata": {},
     "output_type": "execute_result"
    }
   ],
   "source": [
    "# How many customers have international plans\n",
    "telecomdf['International Plan'].value_counts()\n",
    "# 473 customers have taken international plan. 4527 customers didn't take international plan"
   ]
  },
  {
   "cell_type": "code",
   "execution_count": 81,
   "id": "b306958b-387d-400d-bbe4-e9ed39e65fa0",
   "metadata": {},
   "outputs": [
    {
     "data": {
      "text/plain": [
       "Voice mail Plan\n",
       "no     3677\n",
       "yes    1323\n",
       "Name: count, dtype: int64"
      ]
     },
     "execution_count": 81,
     "metadata": {},
     "output_type": "execute_result"
    }
   ],
   "source": [
    "# How many customers have subscribed to voice mail plans \n",
    "telecomdf['Voice mail Plan'].value_counts()\n",
    "# 1323 customers have subscribed to Voice mail Plan. 3677 customers didn't subscribed to Voice mail Plan"
   ]
  },
  {
   "cell_type": "code",
   "execution_count": 97,
   "id": "941d252f-c81d-4882-8896-d9376be10037",
   "metadata": {},
   "outputs": [
    {
     "data": {
      "text/html": [
       "<div>\n",
       "<style scoped>\n",
       "    .dataframe tbody tr th:only-of-type {\n",
       "        vertical-align: middle;\n",
       "    }\n",
       "\n",
       "    .dataframe tbody tr th {\n",
       "        vertical-align: top;\n",
       "    }\n",
       "\n",
       "    .dataframe thead th {\n",
       "        text-align: right;\n",
       "    }\n",
       "</style>\n",
       "<table border=\"1\" class=\"dataframe\">\n",
       "  <thead>\n",
       "    <tr style=\"text-align: right;\">\n",
       "      <th>International Plan</th>\n",
       "      <th>no</th>\n",
       "      <th>yes</th>\n",
       "    </tr>\n",
       "    <tr>\n",
       "      <th>Churn</th>\n",
       "      <th></th>\n",
       "      <th></th>\n",
       "    </tr>\n",
       "  </thead>\n",
       "  <tbody>\n",
       "    <tr>\n",
       "      <th>False.</th>\n",
       "      <td>4019</td>\n",
       "      <td>274</td>\n",
       "    </tr>\n",
       "    <tr>\n",
       "      <th>True.</th>\n",
       "      <td>508</td>\n",
       "      <td>199</td>\n",
       "    </tr>\n",
       "  </tbody>\n",
       "</table>\n",
       "</div>"
      ],
      "text/plain": [
       "International Plan    no  yes\n",
       "Churn                        \n",
       "False.              4019  274\n",
       "True.                508  199"
      ]
     },
     "execution_count": 97,
     "metadata": {},
     "output_type": "execute_result"
    }
   ],
   "source": [
    "# Cross tabulation - Frequency count of two variables\n",
    "# How many customers who have taken international plan left the connection\n",
    "pd.crosstab(telecomdf.Churn, telecomdf['International Plan'])\n",
    "# 199 customers with international plan left the connection\n",
    "# 599 customers who left the connection didn't take the international plan"
   ]
  },
  {
   "cell_type": "code",
   "execution_count": 101,
   "id": "d1b9542f-252d-4804-b818-54ccd4eaaf7d",
   "metadata": {},
   "outputs": [
    {
     "data": {
      "text/html": [
       "<div>\n",
       "<style scoped>\n",
       "    .dataframe tbody tr th:only-of-type {\n",
       "        vertical-align: middle;\n",
       "    }\n",
       "\n",
       "    .dataframe tbody tr th {\n",
       "        vertical-align: top;\n",
       "    }\n",
       "\n",
       "    .dataframe thead th {\n",
       "        text-align: right;\n",
       "    }\n",
       "</style>\n",
       "<table border=\"1\" class=\"dataframe\">\n",
       "  <thead>\n",
       "    <tr style=\"text-align: right;\">\n",
       "      <th>Voice mail Plan</th>\n",
       "      <th>no</th>\n",
       "      <th>yes</th>\n",
       "    </tr>\n",
       "    <tr>\n",
       "      <th>Churn</th>\n",
       "      <th></th>\n",
       "      <th></th>\n",
       "    </tr>\n",
       "  </thead>\n",
       "  <tbody>\n",
       "    <tr>\n",
       "      <th>False.</th>\n",
       "      <td>3072</td>\n",
       "      <td>1221</td>\n",
       "    </tr>\n",
       "    <tr>\n",
       "      <th>True.</th>\n",
       "      <td>605</td>\n",
       "      <td>102</td>\n",
       "    </tr>\n",
       "  </tbody>\n",
       "</table>\n",
       "</div>"
      ],
      "text/plain": [
       "Voice mail Plan    no   yes\n",
       "Churn                      \n",
       "False.           3072  1221\n",
       "True.             605   102"
      ]
     },
     "execution_count": 101,
     "metadata": {},
     "output_type": "execute_result"
    }
   ],
   "source": [
    "pd.crosstab(telecomdf.Churn, telecomdf['Voice mail Plan'])\n",
    "# 102 customers with Voice mail Plan left the connection\n",
    "# 1221 customers who left the connection didn't take the Voice mail Plan"
   ]
  },
  {
   "cell_type": "code",
   "execution_count": 138,
   "id": "0309bac2-fbc3-41ad-a98d-e516b78cf4be",
   "metadata": {},
   "outputs": [],
   "source": [
    "import warnings\n",
    "warnings.filterwarnings(\"ignore\")"
   ]
  },
  {
   "cell_type": "code",
   "execution_count": 140,
   "id": "4c14f130-d177-4e2e-8b5f-8d31c9c8917e",
   "metadata": {},
   "outputs": [
    {
     "data": {
      "image/png": "[encoded data removed]",
      "text/plain": [
       "<Figure size 640x480 with 3 Axes>"
      ]
     },
     "metadata": {},
     "output_type": "display_data"
    }
   ],
   "source": [
    "# seaborn is a Visualization lbrary part of matplotlib\n",
    "import seaborn as sns\n",
    "fis,ax=plt.subplots(3,1)\n",
    "sns.histplot(telecomdf.iloc[:,1],ax=ax[0])\n",
    "sns.boxplot(telecomdf.iloc[:,1],ax=ax[1], orient=\"h\")\n",
    "sns.kdeplot(telecomdf.iloc[:,1],ax=ax[2])\n",
    "plt.show()\n",
    "# Its a bell curve, close to normal distribution"
   ]
  },
  {
   "cell_type": "code",
   "execution_count": 142,
   "id": "c8d9e7f5-1cbd-420a-b98d-8239e774b7c7",
   "metadata": {},
   "outputs": [
    {
     "data": {
      "image/png": "[encoded data removed]",
      "text/plain": [
       "<Figure size 640x480 with 3 Axes>"
      ]
     },
     "metadata": {},
     "output_type": "display_data"
    }
   ],
   "source": [
    "# seaborn is a Visualization lbrary part of matplotlib\n",
    "import seaborn as sns\n",
    "fis,ax=plt.subplots(3,1)\n",
    "sns.histplot(telecomdf.iloc[:,7],ax=ax[0])\n",
    "sns.boxplot(telecomdf.iloc[:,7],ax=ax[1], orient=\"h\")\n",
    "sns.kdeplot(telecomdf.iloc[:,7],ax=ax[2])\n",
    "plt.show()\n",
    "# Its a bell curve, close to normal distribution"
   ]
  },
  {
   "cell_type": "markdown",
   "id": "559fc2c0-e414-4576-b0aa-72b9d23da6e0",
   "metadata": {},
   "source": [
    "##### Aggregation based on condition"
   ]
  },
  {
   "cell_type": "code",
   "execution_count": 170,
   "id": "21043c19-264a-4934-983c-ffb4e7f19a04",
   "metadata": {},
   "outputs": [
    {
     "data": {
      "text/plain": [
       "Churn\n",
       "False.    1.457722\n",
       "True.     2.254597\n",
       "Name: Number Customer Service calls , dtype: float64"
      ]
     },
     "execution_count": 170,
     "metadata": {},
     "output_type": "execute_result"
    }
   ],
   "source": [
    "# Average Customer Service calls by Chrun\n",
    "telecomdf['Number Customer Service calls '].groupby(telecomdf.Churn).mean()"
   ]
  },
  {
   "cell_type": "code",
   "execution_count": 172,
   "id": "e656425a-243a-4106-a142-63ca188f6397",
   "metadata": {},
   "outputs": [
    {
     "data": {
      "text/plain": [
       "Churn\n",
       "False.     99.917074\n",
       "True.     102.332390\n",
       "Name: Account Length, dtype: float64"
      ]
     },
     "execution_count": 172,
     "metadata": {},
     "output_type": "execute_result"
    }
   ],
   "source": [
    "# Average Account Length by Chrun\n",
    "# First numeric variable followed by categorical variable\n",
    "telecomdf['Account Length'].groupby(telecomdf.Churn).mean()"
   ]
  },
  {
   "cell_type": "code",
   "execution_count": null,
   "id": "c5b0a617-e7ed-4f74-a072-c58f0d9e5afd",
   "metadata": {},
   "outputs": [],
   "source": []
  }
 ],
 "metadata": {
  "kernelspec": {
   "display_name": "Python 3 (ipykernel)",
   "language": "python",
   "name": "python3"
  },
  "language_info": {
   "codemirror_mode": {
    "name": "ipython",
    "version": 3
   },
   "file_extension": ".py",
   "mimetype": "text/x-python",
   "name": "python",
   "nbconvert_exporter": "python",
   "pygments_lexer": "ipython3",
   "version": "3.12.4"
  }
 },
 "nbformat": 4,
 "nbformat_minor": 5
}
