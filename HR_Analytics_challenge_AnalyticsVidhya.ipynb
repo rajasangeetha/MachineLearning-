{
 "cells": [
  {
   "cell_type": "markdown",
   "id": "186dd44e-8cc3-49b5-8152-f0319f8917d0",
   "metadata": {},
   "source": [
    "##### This program is to predict the employee promotion. The test data is from Analytics Vidya - HR Analytics"
   ]
  },
  {
   "cell_type": "code",
   "execution_count": 2,
   "id": "c3369989-b650-4a6a-8f18-8247a191ad6b",
   "metadata": {},
   "outputs": [],
   "source": [
    "import pandas as pd\n",
    "import numpy as np\n",
    "import matplotlib.pyplot as plt\n",
    "%matplotlib inline"
   ]
  },
  {
   "cell_type": "code",
   "execution_count": 3,
   "id": "1d37c2fb-1083-4ba8-a1f7-86f510910add",
   "metadata": {},
   "outputs": [],
   "source": [
    "hrtrain=pd.read_csv(\"HRAnalytics/train_LZdllcl.csv\")\n",
    "hrtest=pd.read_csv(\"HRAnalytics/test_2umaH9m.csv\")"
   ]
  },
  {
   "cell_type": "code",
   "execution_count": 4,
   "id": "f15237de-b6e9-421f-b365-82b32d4e25f8",
   "metadata": {},
   "outputs": [],
   "source": [
    "pd.set_option('display.max_columns',None)"
   ]
  },
  {
   "cell_type": "code",
   "execution_count": 5,
   "id": "bfaf9322-b447-45e6-a889-b67e0539c9d3",
   "metadata": {},
   "outputs": [
    {
     "data": {
      "text/html": [
       "<div>\n",
       "<style scoped>\n",
       "    .dataframe tbody tr th:only-of-type {\n",
       "        vertical-align: middle;\n",
       "    }\n",
       "\n",
       "    .dataframe tbody tr th {\n",
       "        vertical-align: top;\n",
       "    }\n",
       "\n",
       "    .dataframe thead th {\n",
       "        text-align: right;\n",
       "    }\n",
       "</style>\n",
       "<table border=\"1\" class=\"dataframe\">\n",
       "  <thead>\n",
       "    <tr style=\"text-align: right;\">\n",
       "      <th></th>\n",
       "      <th>employee_id</th>\n",
       "      <th>department</th>\n",
       "      <th>region</th>\n",
       "      <th>education</th>\n",
       "      <th>gender</th>\n",
       "      <th>recruitment_channel</th>\n",
       "      <th>no_of_trainings</th>\n",
       "      <th>age</th>\n",
       "      <th>previous_year_rating</th>\n",
       "      <th>length_of_service</th>\n",
       "      <th>KPIs_met &gt;80%</th>\n",
       "      <th>awards_won?</th>\n",
       "      <th>avg_training_score</th>\n",
       "      <th>is_promoted</th>\n",
       "    </tr>\n",
       "  </thead>\n",
       "  <tbody>\n",
       "    <tr>\n",
       "      <th>0</th>\n",
       "      <td>65438</td>\n",
       "      <td>Sales &amp; Marketing</td>\n",
       "      <td>region_7</td>\n",
       "      <td>Master's &amp; above</td>\n",
       "      <td>f</td>\n",
       "      <td>sourcing</td>\n",
       "      <td>1</td>\n",
       "      <td>35</td>\n",
       "      <td>5.0</td>\n",
       "      <td>8</td>\n",
       "      <td>1</td>\n",
       "      <td>0</td>\n",
       "      <td>49</td>\n",
       "      <td>0</td>\n",
       "    </tr>\n",
       "    <tr>\n",
       "      <th>1</th>\n",
       "      <td>65141</td>\n",
       "      <td>Operations</td>\n",
       "      <td>region_22</td>\n",
       "      <td>Bachelor's</td>\n",
       "      <td>m</td>\n",
       "      <td>other</td>\n",
       "      <td>1</td>\n",
       "      <td>30</td>\n",
       "      <td>5.0</td>\n",
       "      <td>4</td>\n",
       "      <td>0</td>\n",
       "      <td>0</td>\n",
       "      <td>60</td>\n",
       "      <td>0</td>\n",
       "    </tr>\n",
       "    <tr>\n",
       "      <th>2</th>\n",
       "      <td>7513</td>\n",
       "      <td>Sales &amp; Marketing</td>\n",
       "      <td>region_19</td>\n",
       "      <td>Bachelor's</td>\n",
       "      <td>m</td>\n",
       "      <td>sourcing</td>\n",
       "      <td>1</td>\n",
       "      <td>34</td>\n",
       "      <td>3.0</td>\n",
       "      <td>7</td>\n",
       "      <td>0</td>\n",
       "      <td>0</td>\n",
       "      <td>50</td>\n",
       "      <td>0</td>\n",
       "    </tr>\n",
       "  </tbody>\n",
       "</table>\n",
       "</div>"
      ],
      "text/plain": [
       "   employee_id         department     region         education gender  \\\n",
       "0        65438  Sales & Marketing   region_7  Master's & above      f   \n",
       "1        65141         Operations  region_22        Bachelor's      m   \n",
       "2         7513  Sales & Marketing  region_19        Bachelor's      m   \n",
       "\n",
       "  recruitment_channel  no_of_trainings  age  previous_year_rating  \\\n",
       "0            sourcing                1   35                   5.0   \n",
       "1               other                1   30                   5.0   \n",
       "2            sourcing                1   34                   3.0   \n",
       "\n",
       "   length_of_service  KPIs_met >80%  awards_won?  avg_training_score  \\\n",
       "0                  8              1            0                  49   \n",
       "1                  4              0            0                  60   \n",
       "2                  7              0            0                  50   \n",
       "\n",
       "   is_promoted  \n",
       "0            0  \n",
       "1            0  \n",
       "2            0  "
      ]
     },
     "execution_count": 5,
     "metadata": {},
     "output_type": "execute_result"
    }
   ],
   "source": [
    "hrtrain.head(3)"
   ]
  },
  {
   "cell_type": "code",
   "execution_count": 6,
   "id": "01eb7508-d2dd-475f-b7c4-7abe2ffd82e9",
   "metadata": {},
   "outputs": [
    {
     "data": {
      "text/plain": [
       "Index(['employee_id', 'department', 'region', 'education', 'gender',\n",
       "       'recruitment_channel', 'no_of_trainings', 'age', 'previous_year_rating',\n",
       "       'length_of_service', 'KPIs_met >80%', 'awards_won?',\n",
       "       'avg_training_score', 'is_promoted'],\n",
       "      dtype='object')"
      ]
     },
     "execution_count": 6,
     "metadata": {},
     "output_type": "execute_result"
    }
   ],
   "source": [
    "hrtrain.columns"
   ]
  },
  {
   "cell_type": "code",
   "execution_count": 7,
   "id": "8afffdd7-83f0-4916-b258-caf2032b2c95",
   "metadata": {},
   "outputs": [],
   "source": [
    "# Problem statement\n",
    "# The task is to predict whether a potential promotee at checkoiint in the test set \n",
    "# will be promoted or not after the evaluation process."
   ]
  },
  {
   "cell_type": "code",
   "execution_count": 8,
   "id": "f90a0716-1259-4048-ad73-7f7b9c98f89b",
   "metadata": {},
   "outputs": [
    {
     "name": "stdout",
     "output_type": "stream",
     "text": [
      "<class 'pandas.core.frame.DataFrame'>\n",
      "RangeIndex: 54808 entries, 0 to 54807\n",
      "Data columns (total 14 columns):\n",
      " #   Column                Non-Null Count  Dtype  \n",
      "---  ------                --------------  -----  \n",
      " 0   employee_id           54808 non-null  int64  \n",
      " 1   department            54808 non-null  object \n",
      " 2   region                54808 non-null  object \n",
      " 3   education             52399 non-null  object \n",
      " 4   gender                54808 non-null  object \n",
      " 5   recruitment_channel   54808 non-null  object \n",
      " 6   no_of_trainings       54808 non-null  int64  \n",
      " 7   age                   54808 non-null  int64  \n",
      " 8   previous_year_rating  50684 non-null  float64\n",
      " 9   length_of_service     54808 non-null  int64  \n",
      " 10  KPIs_met >80%         54808 non-null  int64  \n",
      " 11  awards_won?           54808 non-null  int64  \n",
      " 12  avg_training_score    54808 non-null  int64  \n",
      " 13  is_promoted           54808 non-null  int64  \n",
      "dtypes: float64(1), int64(8), object(5)\n",
      "memory usage: 5.9+ MB\n"
     ]
    }
   ],
   "source": [
    "hrtrain.info()\n",
    "# education and previous_year_rating   have missing values"
   ]
  },
  {
   "cell_type": "code",
   "execution_count": 9,
   "id": "9d3e2939-74de-45a1-9b1b-aff3f48367fc",
   "metadata": {},
   "outputs": [
    {
     "name": "stdout",
     "output_type": "stream",
     "text": [
      "<class 'pandas.core.frame.DataFrame'>\n",
      "RangeIndex: 23490 entries, 0 to 23489\n",
      "Data columns (total 13 columns):\n",
      " #   Column                Non-Null Count  Dtype  \n",
      "---  ------                --------------  -----  \n",
      " 0   employee_id           23490 non-null  int64  \n",
      " 1   department            23490 non-null  object \n",
      " 2   region                23490 non-null  object \n",
      " 3   education             22456 non-null  object \n",
      " 4   gender                23490 non-null  object \n",
      " 5   recruitment_channel   23490 non-null  object \n",
      " 6   no_of_trainings       23490 non-null  int64  \n",
      " 7   age                   23490 non-null  int64  \n",
      " 8   previous_year_rating  21678 non-null  float64\n",
      " 9   length_of_service     23490 non-null  int64  \n",
      " 10  KPIs_met >80%         23490 non-null  int64  \n",
      " 11  awards_won?           23490 non-null  int64  \n",
      " 12  avg_training_score    23490 non-null  int64  \n",
      "dtypes: float64(1), int64(7), object(5)\n",
      "memory usage: 2.3+ MB\n"
     ]
    }
   ],
   "source": [
    "hrtest.info()\n",
    "# education and previous_year_rating   have missing values"
   ]
  },
  {
   "cell_type": "code",
   "execution_count": 10,
   "id": "f930488f-be19-4d9a-9038-c569baf86fcf",
   "metadata": {},
   "outputs": [
    {
     "data": {
      "text/plain": [
       "education\n",
       "Bachelor's          36669\n",
       "Master's & above    14925\n",
       "NaN                  2409\n",
       "Below Secondary       805\n",
       "Name: count, dtype: int64"
      ]
     },
     "execution_count": 10,
     "metadata": {},
     "output_type": "execute_result"
    }
   ],
   "source": [
    "hrtrain.education.value_counts(dropna=False) #Impute NA with Bachelor's  bcaz this is large category"
   ]
  },
  {
   "cell_type": "code",
   "execution_count": 11,
   "id": "7acbd539-ddd1-496e-b6db-c407fba2c1b8",
   "metadata": {},
   "outputs": [],
   "source": [
    "hrtrain.education=hrtrain.education.fillna(hrtrain.education.value_counts().idxmax())\n",
    "#idxmax will index of maximum frequency in value counts() tab;e"
   ]
  },
  {
   "cell_type": "code",
   "execution_count": 12,
   "id": "c805802c-8d0b-487a-ac69-6783540bbedd",
   "metadata": {},
   "outputs": [],
   "source": [
    "hrtest.education=hrtest.education.fillna(hrtest.education.value_counts().idxmax())"
   ]
  },
  {
   "cell_type": "code",
   "execution_count": 13,
   "id": "7960e770-0fe5-416c-9e0d-417c42aec00e",
   "metadata": {},
   "outputs": [
    {
     "name": "stdout",
     "output_type": "stream",
     "text": [
      "<class 'pandas.core.frame.DataFrame'>\n",
      "RangeIndex: 23490 entries, 0 to 23489\n",
      "Data columns (total 13 columns):\n",
      " #   Column                Non-Null Count  Dtype  \n",
      "---  ------                --------------  -----  \n",
      " 0   employee_id           23490 non-null  int64  \n",
      " 1   department            23490 non-null  object \n",
      " 2   region                23490 non-null  object \n",
      " 3   education             23490 non-null  object \n",
      " 4   gender                23490 non-null  object \n",
      " 5   recruitment_channel   23490 non-null  object \n",
      " 6   no_of_trainings       23490 non-null  int64  \n",
      " 7   age                   23490 non-null  int64  \n",
      " 8   previous_year_rating  21678 non-null  float64\n",
      " 9   length_of_service     23490 non-null  int64  \n",
      " 10  KPIs_met >80%         23490 non-null  int64  \n",
      " 11  awards_won?           23490 non-null  int64  \n",
      " 12  avg_training_score    23490 non-null  int64  \n",
      "dtypes: float64(1), int64(7), object(5)\n",
      "memory usage: 2.3+ MB\n"
     ]
    }
   ],
   "source": [
    "hrtest.info()"
   ]
  },
  {
   "cell_type": "code",
   "execution_count": 14,
   "id": "13b56d6c-649b-43fd-8be1-13db6e923208",
   "metadata": {},
   "outputs": [
    {
     "name": "stdout",
     "output_type": "stream",
     "text": [
      "<class 'pandas.core.frame.DataFrame'>\n",
      "RangeIndex: 54808 entries, 0 to 54807\n",
      "Data columns (total 14 columns):\n",
      " #   Column                Non-Null Count  Dtype  \n",
      "---  ------                --------------  -----  \n",
      " 0   employee_id           54808 non-null  int64  \n",
      " 1   department            54808 non-null  object \n",
      " 2   region                54808 non-null  object \n",
      " 3   education             54808 non-null  object \n",
      " 4   gender                54808 non-null  object \n",
      " 5   recruitment_channel   54808 non-null  object \n",
      " 6   no_of_trainings       54808 non-null  int64  \n",
      " 7   age                   54808 non-null  int64  \n",
      " 8   previous_year_rating  50684 non-null  float64\n",
      " 9   length_of_service     54808 non-null  int64  \n",
      " 10  KPIs_met >80%         54808 non-null  int64  \n",
      " 11  awards_won?           54808 non-null  int64  \n",
      " 12  avg_training_score    54808 non-null  int64  \n",
      " 13  is_promoted           54808 non-null  int64  \n",
      "dtypes: float64(1), int64(8), object(5)\n",
      "memory usage: 5.9+ MB\n"
     ]
    }
   ],
   "source": [
    "hrtrain.info()"
   ]
  },
  {
   "cell_type": "code",
   "execution_count": 15,
   "id": "a4ca51e4-f1de-40c5-a372-dcc01ead4094",
   "metadata": {},
   "outputs": [
    {
     "data": {
      "text/plain": [
       "previous_year_rating\n",
       "3.0    18618\n",
       "5.0    11741\n",
       "4.0     9877\n",
       "1.0     6223\n",
       "2.0     4225\n",
       "NaN     4124\n",
       "Name: count, dtype: int64"
      ]
     },
     "execution_count": 15,
     "metadata": {},
     "output_type": "execute_result"
    }
   ],
   "source": [
    "hrtrain.previous_year_rating.value_counts(dropna=False) #Impute NA with 3.0 bcaz this is large category"
   ]
  },
  {
   "cell_type": "code",
   "execution_count": 16,
   "id": "88cd2054-d899-416d-ac3e-8692fd9fa728",
   "metadata": {},
   "outputs": [],
   "source": [
    "hrtrain.previous_year_rating=hrtrain.previous_year_rating.fillna(3.0)"
   ]
  },
  {
   "cell_type": "code",
   "execution_count": 17,
   "id": "c5e63a67-7f5f-48b7-a57e-ef7907a9057c",
   "metadata": {},
   "outputs": [
    {
     "data": {
      "text/plain": [
       "previous_year_rating\n",
       "3.0    7921\n",
       "5.0    5097\n",
       "4.0    4249\n",
       "1.0    2680\n",
       "NaN    1812\n",
       "2.0    1731\n",
       "Name: count, dtype: int64"
      ]
     },
     "execution_count": 17,
     "metadata": {},
     "output_type": "execute_result"
    }
   ],
   "source": [
    "hrtest.previous_year_rating.value_counts(dropna=False) #Impute NA with 3.0 bcaz this is large category"
   ]
  },
  {
   "cell_type": "code",
   "execution_count": 18,
   "id": "cdd1b3b9-e1ac-4918-a765-950b8d37a1c6",
   "metadata": {},
   "outputs": [],
   "source": [
    "hrtest.previous_year_rating=hrtest.previous_year_rating.fillna(3.0)"
   ]
  },
  {
   "cell_type": "code",
   "execution_count": 19,
   "id": "8b4a2d30-82fe-4ba2-94f0-050bda4226a1",
   "metadata": {},
   "outputs": [
    {
     "name": "stdout",
     "output_type": "stream",
     "text": [
      "<class 'pandas.core.frame.DataFrame'>\n",
      "RangeIndex: 54808 entries, 0 to 54807\n",
      "Data columns (total 14 columns):\n",
      " #   Column                Non-Null Count  Dtype  \n",
      "---  ------                --------------  -----  \n",
      " 0   employee_id           54808 non-null  int64  \n",
      " 1   department            54808 non-null  object \n",
      " 2   region                54808 non-null  object \n",
      " 3   education             54808 non-null  object \n",
      " 4   gender                54808 non-null  object \n",
      " 5   recruitment_channel   54808 non-null  object \n",
      " 6   no_of_trainings       54808 non-null  int64  \n",
      " 7   age                   54808 non-null  int64  \n",
      " 8   previous_year_rating  54808 non-null  float64\n",
      " 9   length_of_service     54808 non-null  int64  \n",
      " 10  KPIs_met >80%         54808 non-null  int64  \n",
      " 11  awards_won?           54808 non-null  int64  \n",
      " 12  avg_training_score    54808 non-null  int64  \n",
      " 13  is_promoted           54808 non-null  int64  \n",
      "dtypes: float64(1), int64(8), object(5)\n",
      "memory usage: 5.9+ MB\n"
     ]
    }
   ],
   "source": [
    "hrtrain.info()"
   ]
  },
  {
   "cell_type": "code",
   "execution_count": 20,
   "id": "039e9386-7548-446e-83d7-381664f327a5",
   "metadata": {},
   "outputs": [
    {
     "name": "stdout",
     "output_type": "stream",
     "text": [
      "<class 'pandas.core.frame.DataFrame'>\n",
      "RangeIndex: 23490 entries, 0 to 23489\n",
      "Data columns (total 13 columns):\n",
      " #   Column                Non-Null Count  Dtype  \n",
      "---  ------                --------------  -----  \n",
      " 0   employee_id           23490 non-null  int64  \n",
      " 1   department            23490 non-null  object \n",
      " 2   region                23490 non-null  object \n",
      " 3   education             23490 non-null  object \n",
      " 4   gender                23490 non-null  object \n",
      " 5   recruitment_channel   23490 non-null  object \n",
      " 6   no_of_trainings       23490 non-null  int64  \n",
      " 7   age                   23490 non-null  int64  \n",
      " 8   previous_year_rating  23490 non-null  float64\n",
      " 9   length_of_service     23490 non-null  int64  \n",
      " 10  KPIs_met >80%         23490 non-null  int64  \n",
      " 11  awards_won?           23490 non-null  int64  \n",
      " 12  avg_training_score    23490 non-null  int64  \n",
      "dtypes: float64(1), int64(7), object(5)\n",
      "memory usage: 2.3+ MB\n"
     ]
    }
   ],
   "source": [
    "hrtest.info()"
   ]
  },
  {
   "cell_type": "code",
   "execution_count": 21,
   "id": "f220a264-b5c3-4326-ab63-19fd32247245",
   "metadata": {},
   "outputs": [],
   "source": [
    "# Split the data into numeric cols and object cols"
   ]
  },
  {
   "cell_type": "code",
   "execution_count": 22,
   "id": "8781d464-a450-4648-9e4a-6e3dd7946ab9",
   "metadata": {},
   "outputs": [
    {
     "data": {
      "text/plain": [
       "Index(['employee_id', 'department', 'region', 'education', 'gender',\n",
       "       'recruitment_channel', 'no_of_trainings', 'age', 'previous_year_rating',\n",
       "       'length_of_service', 'KPIs_met >80%', 'awards_won?',\n",
       "       'avg_training_score', 'is_promoted'],\n",
       "      dtype='object')"
      ]
     },
     "execution_count": 22,
     "metadata": {},
     "output_type": "execute_result"
    }
   ],
   "source": [
    "hrtrain.columns"
   ]
  },
  {
   "cell_type": "code",
   "execution_count": 23,
   "id": "4af3af3c-f363-4c11-8979-3cee2860c7d2",
   "metadata": {},
   "outputs": [],
   "source": [
    "numcols=hrtrain[['no_of_trainings','age','length_of_service','avg_training_score']]\n",
    "objectcols=hrtrain[['department', 'region', 'education', 'gender', 'recruitment_channel',\n",
    "                    'KPIs_met >80%', 'awards_won?','is_promoted']]\n",
    "#'KPIs_met >80%' - yes, no , 'awards_won?' - yes, no (not numeric values)"
   ]
  },
  {
   "cell_type": "code",
   "execution_count": 24,
   "id": "358f28c1-713c-4662-b989-08c085b7ba47",
   "metadata": {},
   "outputs": [],
   "source": [
    "# EDA on Numeric Data describe, skew and kurt\n",
    "# Histogram. Boxplot and Density curve - avg_training_score - Univariate Plots\n",
    "# Correlation and Heatmap - numcols - Bivariate Statistics and Plots"
   ]
  },
  {
   "cell_type": "code",
   "execution_count": 25,
   "id": "93ee43ef-477e-4951-bbcb-814ca213d362",
   "metadata": {},
   "outputs": [
    {
     "name": "stdout",
     "output_type": "stream",
     "text": [
      "       no_of_trainings           age  length_of_service  avg_training_score\n",
      "count     54808.000000  54808.000000       54808.000000        54808.000000\n",
      "mean          1.253011     34.803915           5.865512           63.386750\n",
      "std           0.609264      7.660169           4.265094           13.371559\n",
      "min           1.000000     20.000000           1.000000           39.000000\n",
      "25%           1.000000     29.000000           3.000000           51.000000\n",
      "50%           1.000000     33.000000           5.000000           60.000000\n",
      "75%           1.000000     39.000000           7.000000           76.000000\n",
      "max          10.000000     60.000000          37.000000           99.000000\n",
      "Skewness: no_of_trainings       3.445434\n",
      "age                   1.007432\n",
      "length_of_service     1.738061\n",
      "avg_training_score    0.451908\n",
      "dtype: float64\n",
      "Kurtosis: no_of_trainings       18.740082\n",
      "age                    0.792353\n",
      "length_of_service      4.414031\n",
      "avg_training_score    -1.049649\n",
      "dtype: float64\n"
     ]
    }
   ],
   "source": [
    "print(numcols.describe())\n",
    "print(\"Skewness:\",numcols.skew())\n",
    "print(\"Kurtosis:\",numcols.kurt())"
   ]
  },
  {
   "cell_type": "code",
   "execution_count": 26,
   "id": "cbc35759-6819-4c15-ba05-0365cffc12c1",
   "metadata": {},
   "outputs": [
    {
     "data": {
      "image/png": "[encoded data removed]",
      "text/plain": [
       "<Figure size 640x480 with 3 Axes>"
      ]
     },
     "metadata": {},
     "output_type": "display_data"
    }
   ],
   "source": [
    "import seaborn as sns\n",
    "fig,ax=plt.subplots(3,1)\n",
    "sns.histplot(hrtrain.avg_training_score,ax=ax[0])\n",
    "sns.boxplot(hrtrain.avg_training_score,ax=ax[1],orient=\"h\")\n",
    "sns.kdeplot(hrtrain.avg_training_score,ax=ax[2])\n",
    "plt.show()\n",
    "# Density curve has multiple peaks"
   ]
  },
  {
   "cell_type": "code",
   "execution_count": 27,
   "id": "62eb95c1-b32f-4cc3-965b-d11373516186",
   "metadata": {},
   "outputs": [
    {
     "data": {
      "text/plain": [
       "<Axes: >"
      ]
     },
     "execution_count": 27,
     "metadata": {},
     "output_type": "execute_result"
    },
    {
     "data": {
      "image/png": "[encoded data removed]",
      "text/plain": [
       "<Figure size 640x480 with 2 Axes>"
      ]
     },
     "metadata": {},
     "output_type": "display_data"
    }
   ],
   "source": [
    "sns.heatmap(numcols.corr(),annot=True)\n",
    "# There are no multi colinearity"
   ]
  },
  {
   "cell_type": "code",
   "execution_count": 28,
   "id": "64c977a3-cf2c-4f28-a5c3-f931ad5d8757",
   "metadata": {},
   "outputs": [
    {
     "data": {
      "text/plain": [
       "<seaborn.axisgrid.PairGrid at 0x28561d82600>"
      ]
     },
     "execution_count": 28,
     "metadata": {},
     "output_type": "execute_result"
    },
    {
     "data": {
      "image/png": "[encoded data removed]",
      "text/plain": [
       "<Figure size 1000x1000 with 20 Axes>"
      ]
     },
     "metadata": {},
     "output_type": "display_data"
    }
   ],
   "source": [
    "sns.pairplot(numcols) # - Bivariate plot - Scatter plot"
   ]
  },
  {
   "cell_type": "code",
   "execution_count": 29,
   "id": "2b2a24dc-f0b5-4eec-9f2a-36dec5c34caf",
   "metadata": {},
   "outputs": [],
   "source": [
    "# While checking multicolinearity, No correlation between age and average training score (Also in the heatmap it's -0.048)\n",
    "# Length of service and Age has a little correlation (0.66)"
   ]
  },
  {
   "cell_type": "code",
   "execution_count": 30,
   "id": "af62402c-cbe5-45df-8aa2-6f15eee2473b",
   "metadata": {},
   "outputs": [
    {
     "name": "stdout",
     "output_type": "stream",
     "text": [
      "department\n",
      "Sales & Marketing    16840\n",
      "Operations           11348\n",
      "Technology            7138\n",
      "Procurement           7138\n",
      "Analytics             5352\n",
      "Finance               2536\n",
      "HR                    2418\n",
      "Legal                 1039\n",
      "R&D                    999\n",
      "Name: count, dtype: int64\n",
      "region\n",
      "region_2     12343\n",
      "region_22     6428\n",
      "region_7      4843\n",
      "region_15     2808\n",
      "region_13     2648\n",
      "region_26     2260\n",
      "region_31     1935\n",
      "region_4      1703\n",
      "region_27     1659\n",
      "region_16     1465\n",
      "region_28     1318\n",
      "region_11     1315\n",
      "region_23     1175\n",
      "region_29      994\n",
      "region_32      945\n",
      "region_19      874\n",
      "region_20      850\n",
      "region_14      827\n",
      "region_25      819\n",
      "region_17      796\n",
      "region_5       766\n",
      "region_6       690\n",
      "region_30      657\n",
      "region_8       655\n",
      "region_10      648\n",
      "region_1       610\n",
      "region_24      508\n",
      "region_12      500\n",
      "region_9       420\n",
      "region_21      411\n",
      "region_3       346\n",
      "region_34      292\n",
      "region_33      269\n",
      "region_18       31\n",
      "Name: count, dtype: int64\n",
      "education\n",
      "Bachelor's          39078\n",
      "Master's & above    14925\n",
      "Below Secondary       805\n",
      "Name: count, dtype: int64\n",
      "gender\n",
      "m    38496\n",
      "f    16312\n",
      "Name: count, dtype: int64\n",
      "recruitment_channel\n",
      "other       30446\n",
      "sourcing    23220\n",
      "referred     1142\n",
      "Name: count, dtype: int64\n",
      "KPIs_met >80%\n",
      "0    35517\n",
      "1    19291\n",
      "Name: count, dtype: int64\n",
      "awards_won?\n",
      "0    53538\n",
      "1     1270\n",
      "Name: count, dtype: int64\n",
      "is_promoted\n",
      "0    50140\n",
      "1     4668\n",
      "Name: count, dtype: int64\n"
     ]
    }
   ],
   "source": [
    "# Frequency counts of all object cols\n",
    "for col in objectcols.columns:\n",
    "    freq=objectcols[col].value_counts()\n",
    "    print(freq)"
   ]
  },
  {
   "cell_type": "markdown",
   "id": "5daf0cc6-7f9f-4d86-b955-fab96d4d84a4",
   "metadata": {},
   "source": [
    "##### What is the Average of avg_training_score for different gender?\n",
    " What is the Average of avg_training_score for different kpismet?\n",
    " What is the Average of avg_training_score for different recruitment channel?\n",
    " What is the Average of length_of_service  for different education?\n",
    " What is the Average of length_of_service for different department?"
   ]
  },
  {
   "cell_type": "code",
   "execution_count": 32,
   "id": "eb072811-6bac-408f-9e1f-f1ef5d073807",
   "metadata": {},
   "outputs": [
    {
     "data": {
      "text/plain": [
       "gender\n",
       "f    63.889897\n",
       "m    63.173550\n",
       "Name: avg_training_score, dtype: float64"
      ]
     },
     "execution_count": 32,
     "metadata": {},
     "output_type": "execute_result"
    }
   ],
   "source": [
    "# What is the Average of avg_training_score for different gender?\n",
    "hrtrain['avg_training_score'].groupby(hrtrain['gender']).mean()"
   ]
  },
  {
   "cell_type": "code",
   "execution_count": 33,
   "id": "c8a79aaa-e916-4452-9f77-dd9b899ecbae",
   "metadata": {},
   "outputs": [
    {
     "data": {
      "text/plain": [
       "KPIs_met >80%\n",
       "0    62.614241\n",
       "1    64.809030\n",
       "Name: avg_training_score, dtype: float64"
      ]
     },
     "execution_count": 33,
     "metadata": {},
     "output_type": "execute_result"
    }
   ],
   "source": [
    "# What is the Average of avg_training_score for different kpismet?\n",
    "hrtrain['avg_training_score'].groupby(hrtrain['KPIs_met >80%']).mean()"
   ]
  },
  {
   "cell_type": "code",
   "execution_count": 34,
   "id": "66543c50-bde5-4ba4-a4ac-2409bfba3d54",
   "metadata": {},
   "outputs": [
    {
     "data": {
      "text/plain": [
       "recruitment_channel\n",
       "other       63.362839\n",
       "referred    66.182137\n",
       "sourcing    63.280620\n",
       "Name: avg_training_score, dtype: float64"
      ]
     },
     "execution_count": 34,
     "metadata": {},
     "output_type": "execute_result"
    }
   ],
   "source": [
    "# What is the Average of avg_training_score for different recruitment channel?\n",
    "hrtrain['avg_training_score'].groupby(hrtrain['recruitment_channel']).mean()"
   ]
  },
  {
   "cell_type": "code",
   "execution_count": 35,
   "id": "d581750c-32df-4cd1-b81d-82af2b3ab05e",
   "metadata": {},
   "outputs": [
    {
     "data": {
      "text/plain": [
       "education\n",
       "Bachelor's          5.286760\n",
       "Below Secondary     1.704348\n",
       "Master's & above    7.605293\n",
       "Name: length_of_service, dtype: float64"
      ]
     },
     "execution_count": 35,
     "metadata": {},
     "output_type": "execute_result"
    }
   ],
   "source": [
    "# What is the Average of length_of_service  for different education?\n",
    "hrtrain['length_of_service'].groupby(hrtrain['education']).mean()"
   ]
  },
  {
   "cell_type": "code",
   "execution_count": 36,
   "id": "542f8885-bb4a-47b5-bc2e-49d4c7108663",
   "metadata": {},
   "outputs": [],
   "source": [
    "# What is the Average of avg_training_score for different department?"
   ]
  },
  {
   "cell_type": "code",
   "execution_count": 37,
   "id": "53a93eba-c46f-4386-a6a5-146fe2209454",
   "metadata": {},
   "outputs": [
    {
     "data": {
      "text/plain": [
       "department\n",
       "Analytics            84.602952\n",
       "Finance              60.222003\n",
       "HR                   50.018197\n",
       "Legal                59.868142\n",
       "Operations           60.226648\n",
       "Procurement          70.122443\n",
       "R&D                  84.596597\n",
       "Sales & Marketing    50.261698\n",
       "Technology           79.928692\n",
       "Name: avg_training_score, dtype: float64"
      ]
     },
     "execution_count": 37,
     "metadata": {},
     "output_type": "execute_result"
    }
   ],
   "source": [
    "hrtrain['avg_training_score'].groupby(hrtrain['department']).mean()"
   ]
  },
  {
   "cell_type": "code",
   "execution_count": 38,
   "id": "7a571184-3f17-4f5c-b537-e5193de58672",
   "metadata": {},
   "outputs": [],
   "source": [
    "# Rules for hypothesis test. \n",
    "# Aggreagation is done to study the EDA and for hypothesis test\n",
    "# 1. Means have to be differet\n",
    "# 2. How many levels are there. two levels t-test. more than two levels ANONA"
   ]
  },
  {
   "cell_type": "markdown",
   "id": "4d0b5fdd-bcfc-44ce-842a-9be1c7ee60b4",
   "metadata": {},
   "source": [
    "##### Test Null H - Average of avg_training_score for different gender are equal"
   ]
  },
  {
   "cell_type": "code",
   "execution_count": 40,
   "id": "3438d68b-e49e-4c74-b7b9-8f347c6b26bf",
   "metadata": {},
   "outputs": [],
   "source": [
    "# Test Null H - Average of avg_training_score for different gender are equal\n",
    "\n",
    "# Split data, frame Null H and Alt H, Conduct test & Interpret\n",
    "# After EDA do hypotheses test then do data preprocessing (dummy encode categorical data)\n",
    "# combine the numcols and object cols \n",
    "# Build the model"
   ]
  },
  {
   "cell_type": "code",
   "execution_count": 41,
   "id": "480dc7a8-b1aa-4331-92f8-ae8be024a6d6",
   "metadata": {},
   "outputs": [],
   "source": [
    "# Exactly two levels/classes - 2 Sample Independent T test\n",
    "male=hrtrain[hrtrain.gender==\"m\"]\n",
    "female=hrtrain[hrtrain.gender==\"f\"]"
   ]
  },
  {
   "cell_type": "code",
   "execution_count": 42,
   "id": "2159e10a-4033-4ebe-96bc-9f72348500f3",
   "metadata": {},
   "outputs": [],
   "source": [
    "# Null H - There is no significant difference in average avg_training_score of male and female\n",
    "# Alt H - There is significant difference in average avg_training_score of male and female"
   ]
  },
  {
   "cell_type": "code",
   "execution_count": 43,
   "id": "c6461be2-4191-41b0-96a7-a735cecb3082",
   "metadata": {},
   "outputs": [],
   "source": [
    "from scipy.stats import ttest_ind"
   ]
  },
  {
   "cell_type": "code",
   "execution_count": 44,
   "id": "7f5202cb-ef71-41e1-ac97-fe7329e45ced",
   "metadata": {},
   "outputs": [
    {
     "data": {
      "text/plain": [
       "TtestResult(statistic=-6.122262326710494, pvalue=9.321257169457854e-10, df=35820.249659813104)"
      ]
     },
     "execution_count": 44,
     "metadata": {},
     "output_type": "execute_result"
    }
   ],
   "source": [
    "ttest_ind(male.avg_training_score,female.avg_training_score,equal_var=False)\n",
    "# Since p-value is less than 0.05, Reject null hypothesis\n",
    "# There is significant difference in Average avg_training_score of male and female"
   ]
  },
  {
   "cell_type": "code",
   "execution_count": 45,
   "id": "7b7ffead-19f1-4b80-9433-1d0b099d01fb",
   "metadata": {},
   "outputs": [
    {
     "data": {
      "text/plain": [
       "array(['sourcing', 'other', 'referred'], dtype=object)"
      ]
     },
     "execution_count": 45,
     "metadata": {},
     "output_type": "execute_result"
    }
   ],
   "source": [
    "hrtrain['recruitment_channel'].unique()"
   ]
  },
  {
   "cell_type": "markdown",
   "id": "33f51df2-4393-4bed-8510-24396a6d08d7",
   "metadata": {},
   "source": [
    "##### Test Null H - Average of avg_training_score for different genderrecruitment_channel are equal"
   ]
  },
  {
   "cell_type": "code",
   "execution_count": 47,
   "id": "6e375fb3-8868-4e5a-99f7-6b45ff6b2549",
   "metadata": {},
   "outputs": [],
   "source": [
    "# Split data\n",
    "# Frame Nll H and Alt H\n",
    "# more than two levels/classes - Anova Single Factor"
   ]
  },
  {
   "cell_type": "code",
   "execution_count": 48,
   "id": "9283f3f8-46a5-4c40-853a-bee042734f32",
   "metadata": {},
   "outputs": [],
   "source": [
    "# More than two levels/classes - Anova Single Factor\n",
    "sourcing=hrtrain[hrtrain.recruitment_channel==\"sourcing\"]\n",
    "referal=hrtrain[hrtrain.recruitment_channel==\"referred\"]\n",
    "other=hrtrain[hrtrain.recruitment_channel==\"other\"]\n",
    "\n",
    "# Null H - There is no significant differece in Average avg_training_score of different recruitment_channel\n",
    "# Alt H - There is no significant differece in Average avg_training_score of different recruitment_channel"
   ]
  },
  {
   "cell_type": "code",
   "execution_count": 49,
   "id": "51fb9cf1-8497-4ec6-bab3-709d31101863",
   "metadata": {},
   "outputs": [],
   "source": [
    "from scipy.stats import f_oneway"
   ]
  },
  {
   "cell_type": "code",
   "execution_count": 50,
   "id": "1c009ede-bb53-4f4d-a283-c55167541023",
   "metadata": {},
   "outputs": [
    {
     "data": {
      "text/plain": [
       "F_onewayResult(statistic=25.758203095600138, pvalue=6.585805990029605e-12)"
      ]
     },
     "execution_count": 50,
     "metadata": {},
     "output_type": "execute_result"
    }
   ],
   "source": [
    "f_oneway(referal.avg_training_score,sourcing.avg_training_score,other.avg_training_score)\n",
    "# Since p-value is less than 0.05 I am rejecting the Null Hypothesis"
   ]
  },
  {
   "cell_type": "code",
   "execution_count": 51,
   "id": "9de34927-387e-4e62-9faa-09aae10315b6",
   "metadata": {},
   "outputs": [
    {
     "data": {
      "text/plain": [
       "Chi2ContingencyResult(statistic=6.677254566546107, pvalue=0.009765091521176657, dof=1, expected_freq=array([[14922.70617428, 35217.29382572],\n",
       "       [ 1389.29382572,  3278.70617428]]))"
      ]
     },
     "execution_count": 51,
     "metadata": {},
     "output_type": "execute_result"
    }
   ],
   "source": [
    "# Test Null H - No Associantion netween geneder and is_promoted\n",
    "# Here there is direct\n",
    "# Both variables Non numeric categorical - Chi Square test of independence\n",
    "\n",
    "\n",
    "# Null H - There is no assciation between both variables\n",
    "# Alt H - There is assciation between both variables\n",
    "from scipy.stats import chi2_contingency\n",
    "chi2_contingency(pd.crosstab(hrtrain.is_promoted,hrtrain.gender))"
   ]
  },
  {
   "cell_type": "code",
   "execution_count": 52,
   "id": "e40c5df1-32ce-4fdf-bd82-7692b29e606c",
   "metadata": {},
   "outputs": [],
   "source": [
    "# Since p-value is less than 0.05, I am rejecting the Null H and there is relationship/association between gender and promotion"
   ]
  },
  {
   "cell_type": "code",
   "execution_count": 53,
   "id": "702bc531-9331-4e17-b18c-770c8153ff96",
   "metadata": {},
   "outputs": [
    {
     "data": {
      "text/html": [
       "<div>\n",
       "<style scoped>\n",
       "    .dataframe tbody tr th:only-of-type {\n",
       "        vertical-align: middle;\n",
       "    }\n",
       "\n",
       "    .dataframe tbody tr th {\n",
       "        vertical-align: top;\n",
       "    }\n",
       "\n",
       "    .dataframe thead th {\n",
       "        text-align: right;\n",
       "    }\n",
       "</style>\n",
       "<table border=\"1\" class=\"dataframe\">\n",
       "  <thead>\n",
       "    <tr style=\"text-align: right;\">\n",
       "      <th></th>\n",
       "      <th>department</th>\n",
       "      <th>region</th>\n",
       "      <th>education</th>\n",
       "      <th>gender</th>\n",
       "      <th>recruitment_channel</th>\n",
       "      <th>KPIs_met &gt;80%</th>\n",
       "      <th>awards_won?</th>\n",
       "      <th>is_promoted</th>\n",
       "    </tr>\n",
       "  </thead>\n",
       "  <tbody>\n",
       "    <tr>\n",
       "      <th>0</th>\n",
       "      <td>Sales &amp; Marketing</td>\n",
       "      <td>region_7</td>\n",
       "      <td>Master's &amp; above</td>\n",
       "      <td>f</td>\n",
       "      <td>sourcing</td>\n",
       "      <td>1</td>\n",
       "      <td>0</td>\n",
       "      <td>0</td>\n",
       "    </tr>\n",
       "    <tr>\n",
       "      <th>1</th>\n",
       "      <td>Operations</td>\n",
       "      <td>region_22</td>\n",
       "      <td>Bachelor's</td>\n",
       "      <td>m</td>\n",
       "      <td>other</td>\n",
       "      <td>0</td>\n",
       "      <td>0</td>\n",
       "      <td>0</td>\n",
       "    </tr>\n",
       "    <tr>\n",
       "      <th>2</th>\n",
       "      <td>Sales &amp; Marketing</td>\n",
       "      <td>region_19</td>\n",
       "      <td>Bachelor's</td>\n",
       "      <td>m</td>\n",
       "      <td>sourcing</td>\n",
       "      <td>0</td>\n",
       "      <td>0</td>\n",
       "      <td>0</td>\n",
       "    </tr>\n",
       "  </tbody>\n",
       "</table>\n",
       "</div>"
      ],
      "text/plain": [
       "          department     region         education gender recruitment_channel  \\\n",
       "0  Sales & Marketing   region_7  Master's & above      f            sourcing   \n",
       "1         Operations  region_22        Bachelor's      m               other   \n",
       "2  Sales & Marketing  region_19        Bachelor's      m            sourcing   \n",
       "\n",
       "   KPIs_met >80%  awards_won?  is_promoted  \n",
       "0              1            0            0  \n",
       "1              0            0            0  \n",
       "2              0            0            0  "
      ]
     },
     "execution_count": 53,
     "metadata": {},
     "output_type": "execute_result"
    }
   ],
   "source": [
    "# Dummy variable encoding\n",
    "objectcols.head(3)"
   ]
  },
  {
   "cell_type": "code",
   "execution_count": 54,
   "id": "c728057d-3068-4c0d-b00d-4beb6b838d68",
   "metadata": {},
   "outputs": [
    {
     "data": {
      "text/plain": [
       "Index(['department', 'region', 'education', 'gender', 'recruitment_channel',\n",
       "       'KPIs_met >80%', 'awards_won?', 'is_promoted'],\n",
       "      dtype='object')"
      ]
     },
     "execution_count": 54,
     "metadata": {},
     "output_type": "execute_result"
    }
   ],
   "source": [
    "objectcols.columns"
   ]
  },
  {
   "cell_type": "code",
   "execution_count": 55,
   "id": "0e3408d4-b258-4495-828b-a0057371af50",
   "metadata": {},
   "outputs": [],
   "source": [
    "objectcols_dummy=pd.get_dummies(objectcols,columns=['department', 'region', 'education', 'gender', 'recruitment_channel',\n",
    "                         'KPIs_met >80%', 'awards_won?'])"
   ]
  },
  {
   "cell_type": "code",
   "execution_count": 56,
   "id": "52fda5a6-b4a8-4b5d-b34e-494b752232ea",
   "metadata": {},
   "outputs": [
    {
     "data": {
      "text/html": [
       "<div>\n",
       "<style scoped>\n",
       "    .dataframe tbody tr th:only-of-type {\n",
       "        vertical-align: middle;\n",
       "    }\n",
       "\n",
       "    .dataframe tbody tr th {\n",
       "        vertical-align: top;\n",
       "    }\n",
       "\n",
       "    .dataframe thead th {\n",
       "        text-align: right;\n",
       "    }\n",
       "</style>\n",
       "<table border=\"1\" class=\"dataframe\">\n",
       "  <thead>\n",
       "    <tr style=\"text-align: right;\">\n",
       "      <th></th>\n",
       "      <th>is_promoted</th>\n",
       "      <th>department_Analytics</th>\n",
       "      <th>department_Finance</th>\n",
       "      <th>department_HR</th>\n",
       "      <th>department_Legal</th>\n",
       "      <th>department_Operations</th>\n",
       "      <th>department_Procurement</th>\n",
       "      <th>department_R&amp;D</th>\n",
       "      <th>department_Sales &amp; Marketing</th>\n",
       "      <th>department_Technology</th>\n",
       "      <th>region_region_1</th>\n",
       "      <th>region_region_10</th>\n",
       "      <th>region_region_11</th>\n",
       "      <th>region_region_12</th>\n",
       "      <th>region_region_13</th>\n",
       "      <th>region_region_14</th>\n",
       "      <th>region_region_15</th>\n",
       "      <th>region_region_16</th>\n",
       "      <th>region_region_17</th>\n",
       "      <th>region_region_18</th>\n",
       "      <th>region_region_19</th>\n",
       "      <th>region_region_2</th>\n",
       "      <th>region_region_20</th>\n",
       "      <th>region_region_21</th>\n",
       "      <th>region_region_22</th>\n",
       "      <th>region_region_23</th>\n",
       "      <th>region_region_24</th>\n",
       "      <th>region_region_25</th>\n",
       "      <th>region_region_26</th>\n",
       "      <th>region_region_27</th>\n",
       "      <th>region_region_28</th>\n",
       "      <th>region_region_29</th>\n",
       "      <th>region_region_3</th>\n",
       "      <th>region_region_30</th>\n",
       "      <th>region_region_31</th>\n",
       "      <th>region_region_32</th>\n",
       "      <th>region_region_33</th>\n",
       "      <th>region_region_34</th>\n",
       "      <th>region_region_4</th>\n",
       "      <th>region_region_5</th>\n",
       "      <th>region_region_6</th>\n",
       "      <th>region_region_7</th>\n",
       "      <th>region_region_8</th>\n",
       "      <th>region_region_9</th>\n",
       "      <th>education_Bachelor's</th>\n",
       "      <th>education_Below Secondary</th>\n",
       "      <th>education_Master's &amp; above</th>\n",
       "      <th>gender_f</th>\n",
       "      <th>gender_m</th>\n",
       "      <th>recruitment_channel_other</th>\n",
       "      <th>recruitment_channel_referred</th>\n",
       "      <th>recruitment_channel_sourcing</th>\n",
       "      <th>KPIs_met &gt;80%_0</th>\n",
       "      <th>KPIs_met &gt;80%_1</th>\n",
       "      <th>awards_won?_0</th>\n",
       "      <th>awards_won?_1</th>\n",
       "    </tr>\n",
       "  </thead>\n",
       "  <tbody>\n",
       "    <tr>\n",
       "      <th>0</th>\n",
       "      <td>0</td>\n",
       "      <td>False</td>\n",
       "      <td>False</td>\n",
       "      <td>False</td>\n",
       "      <td>False</td>\n",
       "      <td>False</td>\n",
       "      <td>False</td>\n",
       "      <td>False</td>\n",
       "      <td>True</td>\n",
       "      <td>False</td>\n",
       "      <td>False</td>\n",
       "      <td>False</td>\n",
       "      <td>False</td>\n",
       "      <td>False</td>\n",
       "      <td>False</td>\n",
       "      <td>False</td>\n",
       "      <td>False</td>\n",
       "      <td>False</td>\n",
       "      <td>False</td>\n",
       "      <td>False</td>\n",
       "      <td>False</td>\n",
       "      <td>False</td>\n",
       "      <td>False</td>\n",
       "      <td>False</td>\n",
       "      <td>False</td>\n",
       "      <td>False</td>\n",
       "      <td>False</td>\n",
       "      <td>False</td>\n",
       "      <td>False</td>\n",
       "      <td>False</td>\n",
       "      <td>False</td>\n",
       "      <td>False</td>\n",
       "      <td>False</td>\n",
       "      <td>False</td>\n",
       "      <td>False</td>\n",
       "      <td>False</td>\n",
       "      <td>False</td>\n",
       "      <td>False</td>\n",
       "      <td>False</td>\n",
       "      <td>False</td>\n",
       "      <td>False</td>\n",
       "      <td>True</td>\n",
       "      <td>False</td>\n",
       "      <td>False</td>\n",
       "      <td>False</td>\n",
       "      <td>False</td>\n",
       "      <td>True</td>\n",
       "      <td>True</td>\n",
       "      <td>False</td>\n",
       "      <td>False</td>\n",
       "      <td>False</td>\n",
       "      <td>True</td>\n",
       "      <td>False</td>\n",
       "      <td>True</td>\n",
       "      <td>True</td>\n",
       "      <td>False</td>\n",
       "    </tr>\n",
       "    <tr>\n",
       "      <th>1</th>\n",
       "      <td>0</td>\n",
       "      <td>False</td>\n",
       "      <td>False</td>\n",
       "      <td>False</td>\n",
       "      <td>False</td>\n",
       "      <td>True</td>\n",
       "      <td>False</td>\n",
       "      <td>False</td>\n",
       "      <td>False</td>\n",
       "      <td>False</td>\n",
       "      <td>False</td>\n",
       "      <td>False</td>\n",
       "      <td>False</td>\n",
       "      <td>False</td>\n",
       "      <td>False</td>\n",
       "      <td>False</td>\n",
       "      <td>False</td>\n",
       "      <td>False</td>\n",
       "      <td>False</td>\n",
       "      <td>False</td>\n",
       "      <td>False</td>\n",
       "      <td>False</td>\n",
       "      <td>False</td>\n",
       "      <td>False</td>\n",
       "      <td>True</td>\n",
       "      <td>False</td>\n",
       "      <td>False</td>\n",
       "      <td>False</td>\n",
       "      <td>False</td>\n",
       "      <td>False</td>\n",
       "      <td>False</td>\n",
       "      <td>False</td>\n",
       "      <td>False</td>\n",
       "      <td>False</td>\n",
       "      <td>False</td>\n",
       "      <td>False</td>\n",
       "      <td>False</td>\n",
       "      <td>False</td>\n",
       "      <td>False</td>\n",
       "      <td>False</td>\n",
       "      <td>False</td>\n",
       "      <td>False</td>\n",
       "      <td>False</td>\n",
       "      <td>False</td>\n",
       "      <td>True</td>\n",
       "      <td>False</td>\n",
       "      <td>False</td>\n",
       "      <td>False</td>\n",
       "      <td>True</td>\n",
       "      <td>True</td>\n",
       "      <td>False</td>\n",
       "      <td>False</td>\n",
       "      <td>True</td>\n",
       "      <td>False</td>\n",
       "      <td>True</td>\n",
       "      <td>False</td>\n",
       "    </tr>\n",
       "    <tr>\n",
       "      <th>2</th>\n",
       "      <td>0</td>\n",
       "      <td>False</td>\n",
       "      <td>False</td>\n",
       "      <td>False</td>\n",
       "      <td>False</td>\n",
       "      <td>False</td>\n",
       "      <td>False</td>\n",
       "      <td>False</td>\n",
       "      <td>True</td>\n",
       "      <td>False</td>\n",
       "      <td>False</td>\n",
       "      <td>False</td>\n",
       "      <td>False</td>\n",
       "      <td>False</td>\n",
       "      <td>False</td>\n",
       "      <td>False</td>\n",
       "      <td>False</td>\n",
       "      <td>False</td>\n",
       "      <td>False</td>\n",
       "      <td>False</td>\n",
       "      <td>True</td>\n",
       "      <td>False</td>\n",
       "      <td>False</td>\n",
       "      <td>False</td>\n",
       "      <td>False</td>\n",
       "      <td>False</td>\n",
       "      <td>False</td>\n",
       "      <td>False</td>\n",
       "      <td>False</td>\n",
       "      <td>False</td>\n",
       "      <td>False</td>\n",
       "      <td>False</td>\n",
       "      <td>False</td>\n",
       "      <td>False</td>\n",
       "      <td>False</td>\n",
       "      <td>False</td>\n",
       "      <td>False</td>\n",
       "      <td>False</td>\n",
       "      <td>False</td>\n",
       "      <td>False</td>\n",
       "      <td>False</td>\n",
       "      <td>False</td>\n",
       "      <td>False</td>\n",
       "      <td>False</td>\n",
       "      <td>True</td>\n",
       "      <td>False</td>\n",
       "      <td>False</td>\n",
       "      <td>False</td>\n",
       "      <td>True</td>\n",
       "      <td>False</td>\n",
       "      <td>False</td>\n",
       "      <td>True</td>\n",
       "      <td>True</td>\n",
       "      <td>False</td>\n",
       "      <td>True</td>\n",
       "      <td>False</td>\n",
       "    </tr>\n",
       "  </tbody>\n",
       "</table>\n",
       "</div>"
      ],
      "text/plain": [
       "   is_promoted  department_Analytics  department_Finance  department_HR  \\\n",
       "0            0                 False               False          False   \n",
       "1            0                 False               False          False   \n",
       "2            0                 False               False          False   \n",
       "\n",
       "   department_Legal  department_Operations  department_Procurement  \\\n",
       "0             False                  False                   False   \n",
       "1             False                   True                   False   \n",
       "2             False                  False                   False   \n",
       "\n",
       "   department_R&D  department_Sales & Marketing  department_Technology  \\\n",
       "0           False                          True                  False   \n",
       "1           False                         False                  False   \n",
       "2           False                          True                  False   \n",
       "\n",
       "   region_region_1  region_region_10  region_region_11  region_region_12  \\\n",
       "0            False             False             False             False   \n",
       "1            False             False             False             False   \n",
       "2            False             False             False             False   \n",
       "\n",
       "   region_region_13  region_region_14  region_region_15  region_region_16  \\\n",
       "0             False             False             False             False   \n",
       "1             False             False             False             False   \n",
       "2             False             False             False             False   \n",
       "\n",
       "   region_region_17  region_region_18  region_region_19  region_region_2  \\\n",
       "0             False             False             False            False   \n",
       "1             False             False             False            False   \n",
       "2             False             False              True            False   \n",
       "\n",
       "   region_region_20  region_region_21  region_region_22  region_region_23  \\\n",
       "0             False             False             False             False   \n",
       "1             False             False              True             False   \n",
       "2             False             False             False             False   \n",
       "\n",
       "   region_region_24  region_region_25  region_region_26  region_region_27  \\\n",
       "0             False             False             False             False   \n",
       "1             False             False             False             False   \n",
       "2             False             False             False             False   \n",
       "\n",
       "   region_region_28  region_region_29  region_region_3  region_region_30  \\\n",
       "0             False             False            False             False   \n",
       "1             False             False            False             False   \n",
       "2             False             False            False             False   \n",
       "\n",
       "   region_region_31  region_region_32  region_region_33  region_region_34  \\\n",
       "0             False             False             False             False   \n",
       "1             False             False             False             False   \n",
       "2             False             False             False             False   \n",
       "\n",
       "   region_region_4  region_region_5  region_region_6  region_region_7  \\\n",
       "0            False            False            False             True   \n",
       "1            False            False            False            False   \n",
       "2            False            False            False            False   \n",
       "\n",
       "   region_region_8  region_region_9  education_Bachelor's  \\\n",
       "0            False            False                 False   \n",
       "1            False            False                  True   \n",
       "2            False            False                  True   \n",
       "\n",
       "   education_Below Secondary  education_Master's & above  gender_f  gender_m  \\\n",
       "0                      False                        True      True     False   \n",
       "1                      False                       False     False      True   \n",
       "2                      False                       False     False      True   \n",
       "\n",
       "   recruitment_channel_other  recruitment_channel_referred  \\\n",
       "0                      False                         False   \n",
       "1                       True                         False   \n",
       "2                      False                         False   \n",
       "\n",
       "   recruitment_channel_sourcing  KPIs_met >80%_0  KPIs_met >80%_1  \\\n",
       "0                          True            False             True   \n",
       "1                         False             True            False   \n",
       "2                          True             True            False   \n",
       "\n",
       "   awards_won?_0  awards_won?_1  \n",
       "0           True          False  \n",
       "1           True          False  \n",
       "2           True          False  "
      ]
     },
     "execution_count": 56,
     "metadata": {},
     "output_type": "execute_result"
    }
   ],
   "source": [
    "objectcols_dummy.head(3)"
   ]
  },
  {
   "cell_type": "code",
   "execution_count": 57,
   "id": "e73acacf-be77-49f1-b1a2-b70e343ff905",
   "metadata": {},
   "outputs": [],
   "source": [
    "# concatenate numcols and objectcols_dummy - column concatenation\n",
    "hrtrain_df=pd.concat([numcols,objectcols_dummy],axis=1)"
   ]
  },
  {
   "cell_type": "code",
   "execution_count": 58,
   "id": "3d26348d-8a29-4657-967b-bb3a1ccc90ee",
   "metadata": {},
   "outputs": [],
   "source": [
    "# Split data into dependent variable y and independent variables X's\n",
    "y=hrtrain_df.is_promoted\n",
    "X=hrtrain_df.drop('is_promoted', axis=1)"
   ]
  },
  {
   "cell_type": "code",
   "execution_count": 59,
   "id": "a2dbb9c4-a0e5-43bf-a1e2-2a200e3e41f2",
   "metadata": {},
   "outputs": [],
   "source": [
    "from sklearn.preprocessing import LabelEncoder\n",
    "y=LabelEncoder().fit_transform(y)"
   ]
  },
  {
   "cell_type": "code",
   "execution_count": 60,
   "id": "d6edbf84-e863-4efb-8f7f-e458548c5392",
   "metadata": {},
   "outputs": [],
   "source": [
    "from sklearn.linear_model import LogisticRegression"
   ]
  },
  {
   "cell_type": "code",
   "execution_count": 61,
   "id": "57194805-1f43-4670-917a-1e1e469f80b7",
   "metadata": {},
   "outputs": [
    {
     "name": "stderr",
     "output_type": "stream",
     "text": [
      "C:\\ProgramData\\anaconda3\\Lib\\site-packages\\sklearn\\linear_model\\_logistic.py:469: ConvergenceWarning: lbfgs failed to converge (status=1):\n",
      "STOP: TOTAL NO. of ITERATIONS REACHED LIMIT.\n",
      "\n",
      "Increase the number of iterations (max_iter) or scale the data as shown in:\n",
      "    https://scikit-learn.org/stable/modules/preprocessing.html\n",
      "Please also refer to the documentation for alternative solver options:\n",
      "    https://scikit-learn.org/stable/modules/linear_model.html#logistic-regression\n",
      "  n_iter_i = _check_optimize_result(\n"
     ]
    },
    {
     "data": {
      "text/html": [
       "<style>#sk-container-id-1 {\n",
       "  /* Definition of color scheme common for light and dark mode */\n",
       "  --sklearn-color-text: black;\n",
       "  --sklearn-color-line: gray;\n",
       "  /* Definition of color scheme for unfitted estimators */\n",
       "  --sklearn-color-unfitted-level-0: #fff5e6;\n",
       "  --sklearn-color-unfitted-level-1: #f6e4d2;\n",
       "  --sklearn-color-unfitted-level-2: #ffe0b3;\n",
       "  --sklearn-color-unfitted-level-3: chocolate;\n",
       "  /* Definition of color scheme for fitted estimators */\n",
       "  --sklearn-color-fitted-level-0: #f0f8ff;\n",
       "  --sklearn-color-fitted-level-1: #d4ebff;\n",
       "  --sklearn-color-fitted-level-2: #b3dbfd;\n",
       "  --sklearn-color-fitted-level-3: cornflowerblue;\n",
       "\n",
       "  /* Specific color for light theme */\n",
       "  --sklearn-color-text-on-default-background: var(--sg-text-color, var(--theme-code-foreground, var(--jp-content-font-color1, black)));\n",
       "  --sklearn-color-background: var(--sg-background-color, var(--theme-background, var(--jp-layout-color0, white)));\n",
       "  --sklearn-color-border-box: var(--sg-text-color, var(--theme-code-foreground, var(--jp-content-font-color1, black)));\n",
       "  --sklearn-color-icon: #696969;\n",
       "\n",
       "  @media (prefers-color-scheme: dark) {\n",
       "    /* Redefinition of color scheme for dark theme */\n",
       "    --sklearn-color-text-on-default-background: var(--sg-text-color, var(--theme-code-foreground, var(--jp-content-font-color1, white)));\n",
       "    --sklearn-color-background: var(--sg-background-color, var(--theme-background, var(--jp-layout-color0, #111)));\n",
       "    --sklearn-color-border-box: var(--sg-text-color, var(--theme-code-foreground, var(--jp-content-font-color1, white)));\n",
       "    --sklearn-color-icon: #878787;\n",
       "  }\n",
       "}\n",
       "\n",
       "#sk-container-id-1 {\n",
       "  color: var(--sklearn-color-text);\n",
       "}\n",
       "\n",
       "#sk-container-id-1 pre {\n",
       "  padding: 0;\n",
       "}\n",
       "\n",
       "#sk-container-id-1 input.sk-hidden--visually {\n",
       "  border: 0;\n",
       "  clip: rect(1px 1px 1px 1px);\n",
       "  clip: rect(1px, 1px, 1px, 1px);\n",
       "  height: 1px;\n",
       "  margin: -1px;\n",
       "  overflow: hidden;\n",
       "  padding: 0;\n",
       "  position: absolute;\n",
       "  width: 1px;\n",
       "}\n",
       "\n",
       "#sk-container-id-1 div.sk-dashed-wrapped {\n",
       "  border: 1px dashed var(--sklearn-color-line);\n",
       "  margin: 0 0.4em 0.5em 0.4em;\n",
       "  box-sizing: border-box;\n",
       "  padding-bottom: 0.4em;\n",
       "  background-color: var(--sklearn-color-background);\n",
       "}\n",
       "\n",
       "#sk-container-id-1 div.sk-container {\n",
       "  /* jupyter's `normalize.less` sets `[hidden] { display: none; }`\n",
       "     but bootstrap.min.css set `[hidden] { display: none !important; }`\n",
       "     so we also need the `!important` here to be able to override the\n",
       "     default hidden behavior on the sphinx rendered scikit-learn.org.\n",
       "     See: https://github.com/scikit-learn/scikit-learn/issues/21755 */\n",
       "  display: inline-block !important;\n",
       "  position: relative;\n",
       "}\n",
       "\n",
       "#sk-container-id-1 div.sk-text-repr-fallback {\n",
       "  display: none;\n",
       "}\n",
       "\n",
       "div.sk-parallel-item,\n",
       "div.sk-serial,\n",
       "div.sk-item {\n",
       "  /* draw centered vertical line to link estimators */\n",
       "  background-image: linear-gradient(var(--sklearn-color-text-on-default-background), var(--sklearn-color-text-on-default-background));\n",
       "  background-size: 2px 100%;\n",
       "  background-repeat: no-repeat;\n",
       "  background-position: center center;\n",
       "}\n",
       "\n",
       "/* Parallel-specific style estimator block */\n",
       "\n",
       "#sk-container-id-1 div.sk-parallel-item::after {\n",
       "  content: \"\";\n",
       "  width: 100%;\n",
       "  border-bottom: 2px solid var(--sklearn-color-text-on-default-background);\n",
       "  flex-grow: 1;\n",
       "}\n",
       "\n",
       "#sk-container-id-1 div.sk-parallel {\n",
       "  display: flex;\n",
       "  align-items: stretch;\n",
       "  justify-content: center;\n",
       "  background-color: var(--sklearn-color-background);\n",
       "  position: relative;\n",
       "}\n",
       "\n",
       "#sk-container-id-1 div.sk-parallel-item {\n",
       "  display: flex;\n",
       "  flex-direction: column;\n",
       "}\n",
       "\n",
       "#sk-container-id-1 div.sk-parallel-item:first-child::after {\n",
       "  align-self: flex-end;\n",
       "  width: 50%;\n",
       "}\n",
       "\n",
       "#sk-container-id-1 div.sk-parallel-item:last-child::after {\n",
       "  align-self: flex-start;\n",
       "  width: 50%;\n",
       "}\n",
       "\n",
       "#sk-container-id-1 div.sk-parallel-item:only-child::after {\n",
       "  width: 0;\n",
       "}\n",
       "\n",
       "/* Serial-specific style estimator block */\n",
       "\n",
       "#sk-container-id-1 div.sk-serial {\n",
       "  display: flex;\n",
       "  flex-direction: column;\n",
       "  align-items: center;\n",
       "  background-color: var(--sklearn-color-background);\n",
       "  padding-right: 1em;\n",
       "  padding-left: 1em;\n",
       "}\n",
       "\n",
       "\n",
       "/* Toggleable style: style used for estimator/Pipeline/ColumnTransformer box that is\n",
       "clickable and can be expanded/collapsed.\n",
       "- Pipeline and ColumnTransformer use this feature and define the default style\n",
       "- Estimators will overwrite some part of the style using the `sk-estimator` class\n",
       "*/\n",
       "\n",
       "/* Pipeline and ColumnTransformer style (default) */\n",
       "\n",
       "#sk-container-id-1 div.sk-toggleable {\n",
       "  /* Default theme specific background. It is overwritten whether we have a\n",
       "  specific estimator or a Pipeline/ColumnTransformer */\n",
       "  background-color: var(--sklearn-color-background);\n",
       "}\n",
       "\n",
       "/* Toggleable label */\n",
       "#sk-container-id-1 label.sk-toggleable__label {\n",
       "  cursor: pointer;\n",
       "  display: block;\n",
       "  width: 100%;\n",
       "  margin-bottom: 0;\n",
       "  padding: 0.5em;\n",
       "  box-sizing: border-box;\n",
       "  text-align: center;\n",
       "}\n",
       "\n",
       "#sk-container-id-1 label.sk-toggleable__label-arrow:before {\n",
       "  /* Arrow on the left of the label */\n",
       "  content: \"▸\";\n",
       "  float: left;\n",
       "  margin-right: 0.25em;\n",
       "  color: var(--sklearn-color-icon);\n",
       "}\n",
       "\n",
       "#sk-container-id-1 label.sk-toggleable__label-arrow:hover:before {\n",
       "  color: var(--sklearn-color-text);\n",
       "}\n",
       "\n",
       "/* Toggleable content - dropdown */\n",
       "\n",
       "#sk-container-id-1 div.sk-toggleable__content {\n",
       "  max-height: 0;\n",
       "  max-width: 0;\n",
       "  overflow: hidden;\n",
       "  text-align: left;\n",
       "  /* unfitted */\n",
       "  background-color: var(--sklearn-color-unfitted-level-0);\n",
       "}\n",
       "\n",
       "#sk-container-id-1 div.sk-toggleable__content.fitted {\n",
       "  /* fitted */\n",
       "  background-color: var(--sklearn-color-fitted-level-0);\n",
       "}\n",
       "\n",
       "#sk-container-id-1 div.sk-toggleable__content pre {\n",
       "  margin: 0.2em;\n",
       "  border-radius: 0.25em;\n",
       "  color: var(--sklearn-color-text);\n",
       "  /* unfitted */\n",
       "  background-color: var(--sklearn-color-unfitted-level-0);\n",
       "}\n",
       "\n",
       "#sk-container-id-1 div.sk-toggleable__content.fitted pre {\n",
       "  /* unfitted */\n",
       "  background-color: var(--sklearn-color-fitted-level-0);\n",
       "}\n",
       "\n",
       "#sk-container-id-1 input.sk-toggleable__control:checked~div.sk-toggleable__content {\n",
       "  /* Expand drop-down */\n",
       "  max-height: 200px;\n",
       "  max-width: 100%;\n",
       "  overflow: auto;\n",
       "}\n",
       "\n",
       "#sk-container-id-1 input.sk-toggleable__control:checked~label.sk-toggleable__label-arrow:before {\n",
       "  content: \"▾\";\n",
       "}\n",
       "\n",
       "/* Pipeline/ColumnTransformer-specific style */\n",
       "\n",
       "#sk-container-id-1 div.sk-label input.sk-toggleable__control:checked~label.sk-toggleable__label {\n",
       "  color: var(--sklearn-color-text);\n",
       "  background-color: var(--sklearn-color-unfitted-level-2);\n",
       "}\n",
       "\n",
       "#sk-container-id-1 div.sk-label.fitted input.sk-toggleable__control:checked~label.sk-toggleable__label {\n",
       "  background-color: var(--sklearn-color-fitted-level-2);\n",
       "}\n",
       "\n",
       "/* Estimator-specific style */\n",
       "\n",
       "/* Colorize estimator box */\n",
       "#sk-container-id-1 div.sk-estimator input.sk-toggleable__control:checked~label.sk-toggleable__label {\n",
       "  /* unfitted */\n",
       "  background-color: var(--sklearn-color-unfitted-level-2);\n",
       "}\n",
       "\n",
       "#sk-container-id-1 div.sk-estimator.fitted input.sk-toggleable__control:checked~label.sk-toggleable__label {\n",
       "  /* fitted */\n",
       "  background-color: var(--sklearn-color-fitted-level-2);\n",
       "}\n",
       "\n",
       "#sk-container-id-1 div.sk-label label.sk-toggleable__label,\n",
       "#sk-container-id-1 div.sk-label label {\n",
       "  /* The background is the default theme color */\n",
       "  color: var(--sklearn-color-text-on-default-background);\n",
       "}\n",
       "\n",
       "/* On hover, darken the color of the background */\n",
       "#sk-container-id-1 div.sk-label:hover label.sk-toggleable__label {\n",
       "  color: var(--sklearn-color-text);\n",
       "  background-color: var(--sklearn-color-unfitted-level-2);\n",
       "}\n",
       "\n",
       "/* Label box, darken color on hover, fitted */\n",
       "#sk-container-id-1 div.sk-label.fitted:hover label.sk-toggleable__label.fitted {\n",
       "  color: var(--sklearn-color-text);\n",
       "  background-color: var(--sklearn-color-fitted-level-2);\n",
       "}\n",
       "\n",
       "/* Estimator label */\n",
       "\n",
       "#sk-container-id-1 div.sk-label label {\n",
       "  font-family: monospace;\n",
       "  font-weight: bold;\n",
       "  display: inline-block;\n",
       "  line-height: 1.2em;\n",
       "}\n",
       "\n",
       "#sk-container-id-1 div.sk-label-container {\n",
       "  text-align: center;\n",
       "}\n",
       "\n",
       "/* Estimator-specific */\n",
       "#sk-container-id-1 div.sk-estimator {\n",
       "  font-family: monospace;\n",
       "  border: 1px dotted var(--sklearn-color-border-box);\n",
       "  border-radius: 0.25em;\n",
       "  box-sizing: border-box;\n",
       "  margin-bottom: 0.5em;\n",
       "  /* unfitted */\n",
       "  background-color: var(--sklearn-color-unfitted-level-0);\n",
       "}\n",
       "\n",
       "#sk-container-id-1 div.sk-estimator.fitted {\n",
       "  /* fitted */\n",
       "  background-color: var(--sklearn-color-fitted-level-0);\n",
       "}\n",
       "\n",
       "/* on hover */\n",
       "#sk-container-id-1 div.sk-estimator:hover {\n",
       "  /* unfitted */\n",
       "  background-color: var(--sklearn-color-unfitted-level-2);\n",
       "}\n",
       "\n",
       "#sk-container-id-1 div.sk-estimator.fitted:hover {\n",
       "  /* fitted */\n",
       "  background-color: var(--sklearn-color-fitted-level-2);\n",
       "}\n",
       "\n",
       "/* Specification for estimator info (e.g. \"i\" and \"?\") */\n",
       "\n",
       "/* Common style for \"i\" and \"?\" */\n",
       "\n",
       ".sk-estimator-doc-link,\n",
       "a:link.sk-estimator-doc-link,\n",
       "a:visited.sk-estimator-doc-link {\n",
       "  float: right;\n",
       "  font-size: smaller;\n",
       "  line-height: 1em;\n",
       "  font-family: monospace;\n",
       "  background-color: var(--sklearn-color-background);\n",
       "  border-radius: 1em;\n",
       "  height: 1em;\n",
       "  width: 1em;\n",
       "  text-decoration: none !important;\n",
       "  margin-left: 1ex;\n",
       "  /* unfitted */\n",
       "  border: var(--sklearn-color-unfitted-level-1) 1pt solid;\n",
       "  color: var(--sklearn-color-unfitted-level-1);\n",
       "}\n",
       "\n",
       ".sk-estimator-doc-link.fitted,\n",
       "a:link.sk-estimator-doc-link.fitted,\n",
       "a:visited.sk-estimator-doc-link.fitted {\n",
       "  /* fitted */\n",
       "  border: var(--sklearn-color-fitted-level-1) 1pt solid;\n",
       "  color: var(--sklearn-color-fitted-level-1);\n",
       "}\n",
       "\n",
       "/* On hover */\n",
       "div.sk-estimator:hover .sk-estimator-doc-link:hover,\n",
       ".sk-estimator-doc-link:hover,\n",
       "div.sk-label-container:hover .sk-estimator-doc-link:hover,\n",
       ".sk-estimator-doc-link:hover {\n",
       "  /* unfitted */\n",
       "  background-color: var(--sklearn-color-unfitted-level-3);\n",
       "  color: var(--sklearn-color-background);\n",
       "  text-decoration: none;\n",
       "}\n",
       "\n",
       "div.sk-estimator.fitted:hover .sk-estimator-doc-link.fitted:hover,\n",
       ".sk-estimator-doc-link.fitted:hover,\n",
       "div.sk-label-container:hover .sk-estimator-doc-link.fitted:hover,\n",
       ".sk-estimator-doc-link.fitted:hover {\n",
       "  /* fitted */\n",
       "  background-color: var(--sklearn-color-fitted-level-3);\n",
       "  color: var(--sklearn-color-background);\n",
       "  text-decoration: none;\n",
       "}\n",
       "\n",
       "/* Span, style for the box shown on hovering the info icon */\n",
       ".sk-estimator-doc-link span {\n",
       "  display: none;\n",
       "  z-index: 9999;\n",
       "  position: relative;\n",
       "  font-weight: normal;\n",
       "  right: .2ex;\n",
       "  padding: .5ex;\n",
       "  margin: .5ex;\n",
       "  width: min-content;\n",
       "  min-width: 20ex;\n",
       "  max-width: 50ex;\n",
       "  color: var(--sklearn-color-text);\n",
       "  box-shadow: 2pt 2pt 4pt #999;\n",
       "  /* unfitted */\n",
       "  background: var(--sklearn-color-unfitted-level-0);\n",
       "  border: .5pt solid var(--sklearn-color-unfitted-level-3);\n",
       "}\n",
       "\n",
       ".sk-estimator-doc-link.fitted span {\n",
       "  /* fitted */\n",
       "  background: var(--sklearn-color-fitted-level-0);\n",
       "  border: var(--sklearn-color-fitted-level-3);\n",
       "}\n",
       "\n",
       ".sk-estimator-doc-link:hover span {\n",
       "  display: block;\n",
       "}\n",
       "\n",
       "/* \"?\"-specific style due to the `<a>` HTML tag */\n",
       "\n",
       "#sk-container-id-1 a.estimator_doc_link {\n",
       "  float: right;\n",
       "  font-size: 1rem;\n",
       "  line-height: 1em;\n",
       "  font-family: monospace;\n",
       "  background-color: var(--sklearn-color-background);\n",
       "  border-radius: 1rem;\n",
       "  height: 1rem;\n",
       "  width: 1rem;\n",
       "  text-decoration: none;\n",
       "  /* unfitted */\n",
       "  color: var(--sklearn-color-unfitted-level-1);\n",
       "  border: var(--sklearn-color-unfitted-level-1) 1pt solid;\n",
       "}\n",
       "\n",
       "#sk-container-id-1 a.estimator_doc_link.fitted {\n",
       "  /* fitted */\n",
       "  border: var(--sklearn-color-fitted-level-1) 1pt solid;\n",
       "  color: var(--sklearn-color-fitted-level-1);\n",
       "}\n",
       "\n",
       "/* On hover */\n",
       "#sk-container-id-1 a.estimator_doc_link:hover {\n",
       "  /* unfitted */\n",
       "  background-color: var(--sklearn-color-unfitted-level-3);\n",
       "  color: var(--sklearn-color-background);\n",
       "  text-decoration: none;\n",
       "}\n",
       "\n",
       "#sk-container-id-1 a.estimator_doc_link.fitted:hover {\n",
       "  /* fitted */\n",
       "  background-color: var(--sklearn-color-fitted-level-3);\n",
       "}\n",
       "</style><div id=\"sk-container-id-1\" class=\"sk-top-container\"><div class=\"sk-text-repr-fallback\"><pre>LogisticRegression(max_iter=500)</pre><b>In a Jupyter environment, please rerun this cell to show the HTML representation or trust the notebook. <br />On GitHub, the HTML representation is unable to render, please try loading this page with nbviewer.org.</b></div><div class=\"sk-container\" hidden><div class=\"sk-item\"><div class=\"sk-estimator fitted sk-toggleable\"><input class=\"sk-toggleable__control sk-hidden--visually\" id=\"sk-estimator-id-1\" type=\"checkbox\" checked><label for=\"sk-estimator-id-1\" class=\"sk-toggleable__label fitted sk-toggleable__label-arrow fitted\">&nbsp;&nbsp;LogisticRegression<a class=\"sk-estimator-doc-link fitted\" rel=\"noreferrer\" target=\"_blank\" href=\"https://scikit-learn.org/1.4/modules/generated/sklearn.linear_model.LogisticRegression.html\">?<span>Documentation for LogisticRegression</span></a><span class=\"sk-estimator-doc-link fitted\">i<span>Fitted</span></span></label><div class=\"sk-toggleable__content fitted\"><pre>LogisticRegression(max_iter=500)</pre></div> </div></div></div></div>"
      ],
      "text/plain": [
       "LogisticRegression(max_iter=500)"
      ]
     },
     "execution_count": 61,
     "metadata": {},
     "output_type": "execute_result"
    }
   ],
   "source": [
    "model=LogisticRegression(max_iter=500)\n",
    "model.fit(X,y)"
   ]
  },
  {
   "cell_type": "code",
   "execution_count": 62,
   "id": "2edf3787-24ba-4e1f-9e28-75dae83d18a0",
   "metadata": {},
   "outputs": [
    {
     "data": {
      "text/plain": [
       "0.9316340680192673"
      ]
     },
     "execution_count": 62,
     "metadata": {},
     "output_type": "execute_result"
    }
   ],
   "source": [
    "model.score(X,y) # Accuracy from confusion matrix"
   ]
  },
  {
   "cell_type": "code",
   "execution_count": 63,
   "id": "a19c2776-8b1c-400a-b365-a828d300d888",
   "metadata": {},
   "outputs": [],
   "source": [
    "y_predict=model.predict(X)"
   ]
  },
  {
   "cell_type": "code",
   "execution_count": 64,
   "id": "a68ab68b-59a6-49f7-ae1b-d6eeb16018a7",
   "metadata": {},
   "outputs": [
    {
     "data": {
      "text/html": [
       "<div>\n",
       "<style scoped>\n",
       "    .dataframe tbody tr th:only-of-type {\n",
       "        vertical-align: middle;\n",
       "    }\n",
       "\n",
       "    .dataframe tbody tr th {\n",
       "        vertical-align: top;\n",
       "    }\n",
       "\n",
       "    .dataframe thead th {\n",
       "        text-align: right;\n",
       "    }\n",
       "</style>\n",
       "<table border=\"1\" class=\"dataframe\">\n",
       "  <thead>\n",
       "    <tr style=\"text-align: right;\">\n",
       "      <th>col_0</th>\n",
       "      <th>0</th>\n",
       "      <th>1</th>\n",
       "    </tr>\n",
       "    <tr>\n",
       "      <th>row_0</th>\n",
       "      <th></th>\n",
       "      <th></th>\n",
       "    </tr>\n",
       "  </thead>\n",
       "  <tbody>\n",
       "    <tr>\n",
       "      <th>0</th>\n",
       "      <td>49891</td>\n",
       "      <td>249</td>\n",
       "    </tr>\n",
       "    <tr>\n",
       "      <th>1</th>\n",
       "      <td>3498</td>\n",
       "      <td>1170</td>\n",
       "    </tr>\n",
       "  </tbody>\n",
       "</table>\n",
       "</div>"
      ],
      "text/plain": [
       "col_0      0     1\n",
       "row_0             \n",
       "0      49891   249\n",
       "1       3498  1170"
      ]
     },
     "execution_count": 64,
     "metadata": {},
     "output_type": "execute_result"
    }
   ],
   "source": [
    "# Actualclass Vs Predicted Class\n",
    "pd.crosstab(y,y_predict)"
   ]
  },
  {
   "cell_type": "code",
   "execution_count": 65,
   "id": "4e63697b-e889-4008-9671-02f3cc889004",
   "metadata": {},
   "outputs": [
    {
     "data": {
      "text/plain": [
       "0.9243358633776091"
      ]
     },
     "execution_count": 65,
     "metadata": {},
     "output_type": "execute_result"
    }
   ],
   "source": [
    "# Accuracy = (TP+TN)/TP+FN+FP+TN\n",
    "# is_promotes = 0 is Negative, 1 is Positive\n",
    "(1170+49491)/(1170+3498+249+49891)\n",
    "\n",
    "# is_promoted - Negative is - 0 , Positive is 1\n",
    "# 49891 - TN\n",
    "# 249 - FP\n",
    "# 3498 - FN\n",
    "# 1170 - TP\n",
    "\n",
    "# Accuracy - 0.9243358633776091"
   ]
  },
  {
   "cell_type": "code",
   "execution_count": 66,
   "id": "3074e920-5e14-4c6d-9967-d5a722503b05",
   "metadata": {},
   "outputs": [],
   "source": [
    "# Classification Report\n",
    "from sklearn.metrics import classification_report"
   ]
  },
  {
   "cell_type": "code",
   "execution_count": 67,
   "id": "b5a01229-f175-431e-873f-2947eb263ec9",
   "metadata": {},
   "outputs": [
    {
     "name": "stdout",
     "output_type": "stream",
     "text": [
      "              precision    recall  f1-score   support\n",
      "\n",
      "           0       0.93      1.00      0.96     50140\n",
      "           1       0.82      0.25      0.38      4668\n",
      "\n",
      "    accuracy                           0.93     54808\n",
      "   macro avg       0.88      0.62      0.67     54808\n",
      "weighted avg       0.93      0.93      0.91     54808\n",
      "\n"
     ]
    }
   ],
   "source": [
    "print(classification_report(y,y_predict))"
   ]
  },
  {
   "cell_type": "code",
   "execution_count": 68,
   "id": "435d0af2-4374-4f3e-955b-88e4755ab192",
   "metadata": {},
   "outputs": [],
   "source": [
    "# Recall and F1 Score for minority class is not good\n",
    "# 1      recall        0.25     f1-score 0.38      \n",
    "# This is because of Imbalance data\n",
    "# Objective is to find the promoted employees , that has the issue here"
   ]
  },
  {
   "cell_type": "code",
   "execution_count": 69,
   "id": "80f471c9-e445-4432-811b-2ccd74fc77ca",
   "metadata": {},
   "outputs": [],
   "source": [
    "# AUC curve , The ROC curve is the plot of the TPR (True Positve Rate) against the FPR (False Positive Rate)\n",
    "# at each threshold setting.\n",
    "# AUC should be greater than 0.70 is agood fit model"
   ]
  },
  {
   "cell_type": "code",
   "execution_count": 70,
   "id": "fd311f0f-e12b-497c-a033-d7591ccc3c1a",
   "metadata": {},
   "outputs": [],
   "source": [
    "from sklearn.metrics import RocCurveDisplay"
   ]
  },
  {
   "cell_type": "code",
   "execution_count": 71,
   "id": "868ae706-c914-4b4d-8e63-dfb3cefaf7fd",
   "metadata": {},
   "outputs": [
    {
     "data": {
      "text/plain": [
       "<sklearn.metrics._plot.roc_curve.RocCurveDisplay at 0x28566587ad0>"
      ]
     },
     "execution_count": 71,
     "metadata": {},
     "output_type": "execute_result"
    },
    {
     "data": {
      "image/png": "[encoded data removed]",
      "text/plain": [
       "<Figure size 640x480 with 1 Axes>"
      ]
     },
     "metadata": {},
     "output_type": "display_data"
    }
   ],
   "source": [
    "RocCurveDisplay.from_predictions(y,y_predict)"
   ]
  },
  {
   "cell_type": "code",
   "execution_count": 72,
   "id": "b86123eb-41b3-490e-a7be-0a202935848b",
   "metadata": {},
   "outputs": [],
   "source": [
    "# Since AUC = 0.62, which is less than 0.70 this model is not good fit model\n",
    "# This is because of Imbalance data (is_promoted 1 - 4668 (Minority class) , 0 - 50140 (Majotity class) )"
   ]
  },
  {
   "cell_type": "code",
   "execution_count": 73,
   "id": "2740a2b6-04db-4ce9-9333-7998dcf2c481",
   "metadata": {},
   "outputs": [
    {
     "data": {
      "text/plain": [
       "<Axes: xlabel='is_promoted'>"
      ]
     },
     "execution_count": 73,
     "metadata": {},
     "output_type": "execute_result"
    },
    {
     "data": {
      "image/png": "[encoded data removed]",
      "text/plain": [
       "<Figure size 640x480 with 1 Axes>"
      ]
     },
     "metadata": {},
     "output_type": "display_data"
    }
   ],
   "source": [
    "hrtrain.is_promoted.value_counts().plot(kind=\"bar\")"
   ]
  },
  {
   "cell_type": "code",
   "execution_count": 74,
   "id": "82cd4a1e-d0ba-4477-ade6-2bdf1df2bac2",
   "metadata": {},
   "outputs": [],
   "source": [
    "# 65% 35% is ok\n",
    "# Minority class predictions (recall, precision, and F1 score) is very bad. \n",
    "# Accuracy is good, which is not the right metric\n",
    "# Algorithm doesn't have enough data to process"
   ]
  },
  {
   "cell_type": "markdown",
   "id": "1b72a21a-fc4a-4e30-9889-7176bac51392",
   "metadata": {},
   "source": [
    "##### Using SMOTE to fix Imbalance Data"
   ]
  },
  {
   "cell_type": "code",
   "execution_count": 76,
   "id": "29a9aec2-6906-45a4-8ec2-4ebcae64b57f",
   "metadata": {},
   "outputs": [],
   "source": [
    "from imblearn.over_sampling import SMOTENC"
   ]
  },
  {
   "cell_type": "code",
   "execution_count": 77,
   "id": "04dbf80c-293e-4cd9-b53f-b47acc374044",
   "metadata": {},
   "outputs": [],
   "source": [
    "X.rename(columns={\"education_Bachelor's\": \"education_Bachelors\", \"education_Master's & above\" : \"education_Masters & above\"}, inplace=True)"
   ]
  },
  {
   "cell_type": "code",
   "execution_count": 78,
   "id": "5d40b49e-4ada-408b-bda0-1e647c5095b5",
   "metadata": {},
   "outputs": [
    {
     "data": {
      "text/plain": [
       "Index(['no_of_trainings', 'age', 'length_of_service', 'avg_training_score',\n",
       "       'department_Analytics', 'department_Finance', 'department_HR',\n",
       "       'department_Legal', 'department_Operations', 'department_Procurement',\n",
       "       'department_R&D', 'department_Sales & Marketing',\n",
       "       'department_Technology', 'region_region_1', 'region_region_10',\n",
       "       'region_region_11', 'region_region_12', 'region_region_13',\n",
       "       'region_region_14', 'region_region_15', 'region_region_16',\n",
       "       'region_region_17', 'region_region_18', 'region_region_19',\n",
       "       'region_region_2', 'region_region_20', 'region_region_21',\n",
       "       'region_region_22', 'region_region_23', 'region_region_24',\n",
       "       'region_region_25', 'region_region_26', 'region_region_27',\n",
       "       'region_region_28', 'region_region_29', 'region_region_3',\n",
       "       'region_region_30', 'region_region_31', 'region_region_32',\n",
       "       'region_region_33', 'region_region_34', 'region_region_4',\n",
       "       'region_region_5', 'region_region_6', 'region_region_7',\n",
       "       'region_region_8', 'region_region_9', 'education_Bachelors',\n",
       "       'education_Below Secondary', 'education_Masters & above', 'gender_f',\n",
       "       'gender_m', 'recruitment_channel_other', 'recruitment_channel_referred',\n",
       "       'recruitment_channel_sourcing', 'KPIs_met >80%_0', 'KPIs_met >80%_1',\n",
       "       'awards_won?_0', 'awards_won?_1'],\n",
       "      dtype='object')"
      ]
     },
     "execution_count": 78,
     "metadata": {},
     "output_type": "execute_result"
    }
   ],
   "source": [
    "X.columns"
   ]
  },
  {
   "cell_type": "code",
   "execution_count": 79,
   "id": "c4bf244b-9bb6-4bbf-9582-8e50d5a72e74",
   "metadata": {},
   "outputs": [],
   "source": [
    "smote=SMOTENC(categorical_features=['department_Analytics', 'department_Finance', 'department_HR',\n",
    "       'department_Legal', 'department_Operations', 'department_Procurement',\n",
    "       'department_R&D', 'department_Sales & Marketing',\n",
    "       'department_Technology', 'region_region_1', 'region_region_10',\n",
    "       'region_region_11', 'region_region_12', 'region_region_13',\n",
    "       'region_region_14', 'region_region_15', 'region_region_16',\n",
    "       'region_region_17', 'region_region_18', 'region_region_19',\n",
    "       'region_region_2', 'region_region_20', 'region_region_21',\n",
    "       'region_region_22', 'region_region_23', 'region_region_24',\n",
    "       'region_region_25', 'region_region_26', 'region_region_27',\n",
    "       'region_region_28', 'region_region_29', 'region_region_3',\n",
    "       'region_region_30', 'region_region_31', 'region_region_32',\n",
    "       'region_region_33', 'region_region_34', 'region_region_4',\n",
    "       'region_region_5', 'region_region_6', 'region_region_7',\n",
    "       'region_region_8', 'region_region_9', \n",
    "       'education_Bachelors', 'education_Below Secondary', \n",
    "        'education_Masters & above', 'gender_f',\n",
    "       'gender_m', 'recruitment_channel_other', 'recruitment_channel_referred',\n",
    "       'recruitment_channel_sourcing', 'KPIs_met >80%_0', 'KPIs_met >80%_1',\n",
    "       'awards_won?_0', 'awards_won?_1'])"
   ]
  },
  {
   "cell_type": "code",
   "execution_count": 80,
   "id": "ca65fce8-a77f-4c78-a38e-74d39ca3bdda",
   "metadata": {},
   "outputs": [],
   "source": [
    "X_smote,y_smote=smote.fit_resample(X,y)"
   ]
  },
  {
   "cell_type": "code",
   "execution_count": 81,
   "id": "5a1ceed1-ce22-41a6-bcf5-41249d014c9a",
   "metadata": {},
   "outputs": [
    {
     "data": {
      "text/plain": [
       "0\n",
       "0    50140\n",
       "1    50140\n",
       "Name: count, dtype: int64"
      ]
     },
     "execution_count": 81,
     "metadata": {},
     "output_type": "execute_result"
    }
   ],
   "source": [
    "pd.DataFrame(y).value_counts()\n",
    "pd.DataFrame(y_smote).value_counts()"
   ]
  },
  {
   "cell_type": "code",
   "execution_count": 82,
   "id": "a3860901-b75d-44ac-b4be-054412a46867",
   "metadata": {},
   "outputs": [
    {
     "name": "stderr",
     "output_type": "stream",
     "text": [
      "C:\\ProgramData\\anaconda3\\Lib\\site-packages\\sklearn\\linear_model\\_logistic.py:469: ConvergenceWarning: lbfgs failed to converge (status=1):\n",
      "STOP: TOTAL NO. of ITERATIONS REACHED LIMIT.\n",
      "\n",
      "Increase the number of iterations (max_iter) or scale the data as shown in:\n",
      "    https://scikit-learn.org/stable/modules/preprocessing.html\n",
      "Please also refer to the documentation for alternative solver options:\n",
      "    https://scikit-learn.org/stable/modules/linear_model.html#logistic-regression\n",
      "  n_iter_i = _check_optimize_result(\n"
     ]
    },
    {
     "data": {
      "text/html": [
       "<style>#sk-container-id-2 {\n",
       "  /* Definition of color scheme common for light and dark mode */\n",
       "  --sklearn-color-text: black;\n",
       "  --sklearn-color-line: gray;\n",
       "  /* Definition of color scheme for unfitted estimators */\n",
       "  --sklearn-color-unfitted-level-0: #fff5e6;\n",
       "  --sklearn-color-unfitted-level-1: #f6e4d2;\n",
       "  --sklearn-color-unfitted-level-2: #ffe0b3;\n",
       "  --sklearn-color-unfitted-level-3: chocolate;\n",
       "  /* Definition of color scheme for fitted estimators */\n",
       "  --sklearn-color-fitted-level-0: #f0f8ff;\n",
       "  --sklearn-color-fitted-level-1: #d4ebff;\n",
       "  --sklearn-color-fitted-level-2: #b3dbfd;\n",
       "  --sklearn-color-fitted-level-3: cornflowerblue;\n",
       "\n",
       "  /* Specific color for light theme */\n",
       "  --sklearn-color-text-on-default-background: var(--sg-text-color, var(--theme-code-foreground, var(--jp-content-font-color1, black)));\n",
       "  --sklearn-color-background: var(--sg-background-color, var(--theme-background, var(--jp-layout-color0, white)));\n",
       "  --sklearn-color-border-box: var(--sg-text-color, var(--theme-code-foreground, var(--jp-content-font-color1, black)));\n",
       "  --sklearn-color-icon: #696969;\n",
       "\n",
       "  @media (prefers-color-scheme: dark) {\n",
       "    /* Redefinition of color scheme for dark theme */\n",
       "    --sklearn-color-text-on-default-background: var(--sg-text-color, var(--theme-code-foreground, var(--jp-content-font-color1, white)));\n",
       "    --sklearn-color-background: var(--sg-background-color, var(--theme-background, var(--jp-layout-color0, #111)));\n",
       "    --sklearn-color-border-box: var(--sg-text-color, var(--theme-code-foreground, var(--jp-content-font-color1, white)));\n",
       "    --sklearn-color-icon: #878787;\n",
       "  }\n",
       "}\n",
       "\n",
       "#sk-container-id-2 {\n",
       "  color: var(--sklearn-color-text);\n",
       "}\n",
       "\n",
       "#sk-container-id-2 pre {\n",
       "  padding: 0;\n",
       "}\n",
       "\n",
       "#sk-container-id-2 input.sk-hidden--visually {\n",
       "  border: 0;\n",
       "  clip: rect(1px 1px 1px 1px);\n",
       "  clip: rect(1px, 1px, 1px, 1px);\n",
       "  height: 1px;\n",
       "  margin: -1px;\n",
       "  overflow: hidden;\n",
       "  padding: 0;\n",
       "  position: absolute;\n",
       "  width: 1px;\n",
       "}\n",
       "\n",
       "#sk-container-id-2 div.sk-dashed-wrapped {\n",
       "  border: 1px dashed var(--sklearn-color-line);\n",
       "  margin: 0 0.4em 0.5em 0.4em;\n",
       "  box-sizing: border-box;\n",
       "  padding-bottom: 0.4em;\n",
       "  background-color: var(--sklearn-color-background);\n",
       "}\n",
       "\n",
       "#sk-container-id-2 div.sk-container {\n",
       "  /* jupyter's `normalize.less` sets `[hidden] { display: none; }`\n",
       "     but bootstrap.min.css set `[hidden] { display: none !important; }`\n",
       "     so we also need the `!important` here to be able to override the\n",
       "     default hidden behavior on the sphinx rendered scikit-learn.org.\n",
       "     See: https://github.com/scikit-learn/scikit-learn/issues/21755 */\n",
       "  display: inline-block !important;\n",
       "  position: relative;\n",
       "}\n",
       "\n",
       "#sk-container-id-2 div.sk-text-repr-fallback {\n",
       "  display: none;\n",
       "}\n",
       "\n",
       "div.sk-parallel-item,\n",
       "div.sk-serial,\n",
       "div.sk-item {\n",
       "  /* draw centered vertical line to link estimators */\n",
       "  background-image: linear-gradient(var(--sklearn-color-text-on-default-background), var(--sklearn-color-text-on-default-background));\n",
       "  background-size: 2px 100%;\n",
       "  background-repeat: no-repeat;\n",
       "  background-position: center center;\n",
       "}\n",
       "\n",
       "/* Parallel-specific style estimator block */\n",
       "\n",
       "#sk-container-id-2 div.sk-parallel-item::after {\n",
       "  content: \"\";\n",
       "  width: 100%;\n",
       "  border-bottom: 2px solid var(--sklearn-color-text-on-default-background);\n",
       "  flex-grow: 1;\n",
       "}\n",
       "\n",
       "#sk-container-id-2 div.sk-parallel {\n",
       "  display: flex;\n",
       "  align-items: stretch;\n",
       "  justify-content: center;\n",
       "  background-color: var(--sklearn-color-background);\n",
       "  position: relative;\n",
       "}\n",
       "\n",
       "#sk-container-id-2 div.sk-parallel-item {\n",
       "  display: flex;\n",
       "  flex-direction: column;\n",
       "}\n",
       "\n",
       "#sk-container-id-2 div.sk-parallel-item:first-child::after {\n",
       "  align-self: flex-end;\n",
       "  width: 50%;\n",
       "}\n",
       "\n",
       "#sk-container-id-2 div.sk-parallel-item:last-child::after {\n",
       "  align-self: flex-start;\n",
       "  width: 50%;\n",
       "}\n",
       "\n",
       "#sk-container-id-2 div.sk-parallel-item:only-child::after {\n",
       "  width: 0;\n",
       "}\n",
       "\n",
       "/* Serial-specific style estimator block */\n",
       "\n",
       "#sk-container-id-2 div.sk-serial {\n",
       "  display: flex;\n",
       "  flex-direction: column;\n",
       "  align-items: center;\n",
       "  background-color: var(--sklearn-color-background);\n",
       "  padding-right: 1em;\n",
       "  padding-left: 1em;\n",
       "}\n",
       "\n",
       "\n",
       "/* Toggleable style: style used for estimator/Pipeline/ColumnTransformer box that is\n",
       "clickable and can be expanded/collapsed.\n",
       "- Pipeline and ColumnTransformer use this feature and define the default style\n",
       "- Estimators will overwrite some part of the style using the `sk-estimator` class\n",
       "*/\n",
       "\n",
       "/* Pipeline and ColumnTransformer style (default) */\n",
       "\n",
       "#sk-container-id-2 div.sk-toggleable {\n",
       "  /* Default theme specific background. It is overwritten whether we have a\n",
       "  specific estimator or a Pipeline/ColumnTransformer */\n",
       "  background-color: var(--sklearn-color-background);\n",
       "}\n",
       "\n",
       "/* Toggleable label */\n",
       "#sk-container-id-2 label.sk-toggleable__label {\n",
       "  cursor: pointer;\n",
       "  display: block;\n",
       "  width: 100%;\n",
       "  margin-bottom: 0;\n",
       "  padding: 0.5em;\n",
       "  box-sizing: border-box;\n",
       "  text-align: center;\n",
       "}\n",
       "\n",
       "#sk-container-id-2 label.sk-toggleable__label-arrow:before {\n",
       "  /* Arrow on the left of the label */\n",
       "  content: \"▸\";\n",
       "  float: left;\n",
       "  margin-right: 0.25em;\n",
       "  color: var(--sklearn-color-icon);\n",
       "}\n",
       "\n",
       "#sk-container-id-2 label.sk-toggleable__label-arrow:hover:before {\n",
       "  color: var(--sklearn-color-text);\n",
       "}\n",
       "\n",
       "/* Toggleable content - dropdown */\n",
       "\n",
       "#sk-container-id-2 div.sk-toggleable__content {\n",
       "  max-height: 0;\n",
       "  max-width: 0;\n",
       "  overflow: hidden;\n",
       "  text-align: left;\n",
       "  /* unfitted */\n",
       "  background-color: var(--sklearn-color-unfitted-level-0);\n",
       "}\n",
       "\n",
       "#sk-container-id-2 div.sk-toggleable__content.fitted {\n",
       "  /* fitted */\n",
       "  background-color: var(--sklearn-color-fitted-level-0);\n",
       "}\n",
       "\n",
       "#sk-container-id-2 div.sk-toggleable__content pre {\n",
       "  margin: 0.2em;\n",
       "  border-radius: 0.25em;\n",
       "  color: var(--sklearn-color-text);\n",
       "  /* unfitted */\n",
       "  background-color: var(--sklearn-color-unfitted-level-0);\n",
       "}\n",
       "\n",
       "#sk-container-id-2 div.sk-toggleable__content.fitted pre {\n",
       "  /* unfitted */\n",
       "  background-color: var(--sklearn-color-fitted-level-0);\n",
       "}\n",
       "\n",
       "#sk-container-id-2 input.sk-toggleable__control:checked~div.sk-toggleable__content {\n",
       "  /* Expand drop-down */\n",
       "  max-height: 200px;\n",
       "  max-width: 100%;\n",
       "  overflow: auto;\n",
       "}\n",
       "\n",
       "#sk-container-id-2 input.sk-toggleable__control:checked~label.sk-toggleable__label-arrow:before {\n",
       "  content: \"▾\";\n",
       "}\n",
       "\n",
       "/* Pipeline/ColumnTransformer-specific style */\n",
       "\n",
       "#sk-container-id-2 div.sk-label input.sk-toggleable__control:checked~label.sk-toggleable__label {\n",
       "  color: var(--sklearn-color-text);\n",
       "  background-color: var(--sklearn-color-unfitted-level-2);\n",
       "}\n",
       "\n",
       "#sk-container-id-2 div.sk-label.fitted input.sk-toggleable__control:checked~label.sk-toggleable__label {\n",
       "  background-color: var(--sklearn-color-fitted-level-2);\n",
       "}\n",
       "\n",
       "/* Estimator-specific style */\n",
       "\n",
       "/* Colorize estimator box */\n",
       "#sk-container-id-2 div.sk-estimator input.sk-toggleable__control:checked~label.sk-toggleable__label {\n",
       "  /* unfitted */\n",
       "  background-color: var(--sklearn-color-unfitted-level-2);\n",
       "}\n",
       "\n",
       "#sk-container-id-2 div.sk-estimator.fitted input.sk-toggleable__control:checked~label.sk-toggleable__label {\n",
       "  /* fitted */\n",
       "  background-color: var(--sklearn-color-fitted-level-2);\n",
       "}\n",
       "\n",
       "#sk-container-id-2 div.sk-label label.sk-toggleable__label,\n",
       "#sk-container-id-2 div.sk-label label {\n",
       "  /* The background is the default theme color */\n",
       "  color: var(--sklearn-color-text-on-default-background);\n",
       "}\n",
       "\n",
       "/* On hover, darken the color of the background */\n",
       "#sk-container-id-2 div.sk-label:hover label.sk-toggleable__label {\n",
       "  color: var(--sklearn-color-text);\n",
       "  background-color: var(--sklearn-color-unfitted-level-2);\n",
       "}\n",
       "\n",
       "/* Label box, darken color on hover, fitted */\n",
       "#sk-container-id-2 div.sk-label.fitted:hover label.sk-toggleable__label.fitted {\n",
       "  color: var(--sklearn-color-text);\n",
       "  background-color: var(--sklearn-color-fitted-level-2);\n",
       "}\n",
       "\n",
       "/* Estimator label */\n",
       "\n",
       "#sk-container-id-2 div.sk-label label {\n",
       "  font-family: monospace;\n",
       "  font-weight: bold;\n",
       "  display: inline-block;\n",
       "  line-height: 1.2em;\n",
       "}\n",
       "\n",
       "#sk-container-id-2 div.sk-label-container {\n",
       "  text-align: center;\n",
       "}\n",
       "\n",
       "/* Estimator-specific */\n",
       "#sk-container-id-2 div.sk-estimator {\n",
       "  font-family: monospace;\n",
       "  border: 1px dotted var(--sklearn-color-border-box);\n",
       "  border-radius: 0.25em;\n",
       "  box-sizing: border-box;\n",
       "  margin-bottom: 0.5em;\n",
       "  /* unfitted */\n",
       "  background-color: var(--sklearn-color-unfitted-level-0);\n",
       "}\n",
       "\n",
       "#sk-container-id-2 div.sk-estimator.fitted {\n",
       "  /* fitted */\n",
       "  background-color: var(--sklearn-color-fitted-level-0);\n",
       "}\n",
       "\n",
       "/* on hover */\n",
       "#sk-container-id-2 div.sk-estimator:hover {\n",
       "  /* unfitted */\n",
       "  background-color: var(--sklearn-color-unfitted-level-2);\n",
       "}\n",
       "\n",
       "#sk-container-id-2 div.sk-estimator.fitted:hover {\n",
       "  /* fitted */\n",
       "  background-color: var(--sklearn-color-fitted-level-2);\n",
       "}\n",
       "\n",
       "/* Specification for estimator info (e.g. \"i\" and \"?\") */\n",
       "\n",
       "/* Common style for \"i\" and \"?\" */\n",
       "\n",
       ".sk-estimator-doc-link,\n",
       "a:link.sk-estimator-doc-link,\n",
       "a:visited.sk-estimator-doc-link {\n",
       "  float: right;\n",
       "  font-size: smaller;\n",
       "  line-height: 1em;\n",
       "  font-family: monospace;\n",
       "  background-color: var(--sklearn-color-background);\n",
       "  border-radius: 1em;\n",
       "  height: 1em;\n",
       "  width: 1em;\n",
       "  text-decoration: none !important;\n",
       "  margin-left: 1ex;\n",
       "  /* unfitted */\n",
       "  border: var(--sklearn-color-unfitted-level-1) 1pt solid;\n",
       "  color: var(--sklearn-color-unfitted-level-1);\n",
       "}\n",
       "\n",
       ".sk-estimator-doc-link.fitted,\n",
       "a:link.sk-estimator-doc-link.fitted,\n",
       "a:visited.sk-estimator-doc-link.fitted {\n",
       "  /* fitted */\n",
       "  border: var(--sklearn-color-fitted-level-1) 1pt solid;\n",
       "  color: var(--sklearn-color-fitted-level-1);\n",
       "}\n",
       "\n",
       "/* On hover */\n",
       "div.sk-estimator:hover .sk-estimator-doc-link:hover,\n",
       ".sk-estimator-doc-link:hover,\n",
       "div.sk-label-container:hover .sk-estimator-doc-link:hover,\n",
       ".sk-estimator-doc-link:hover {\n",
       "  /* unfitted */\n",
       "  background-color: var(--sklearn-color-unfitted-level-3);\n",
       "  color: var(--sklearn-color-background);\n",
       "  text-decoration: none;\n",
       "}\n",
       "\n",
       "div.sk-estimator.fitted:hover .sk-estimator-doc-link.fitted:hover,\n",
       ".sk-estimator-doc-link.fitted:hover,\n",
       "div.sk-label-container:hover .sk-estimator-doc-link.fitted:hover,\n",
       ".sk-estimator-doc-link.fitted:hover {\n",
       "  /* fitted */\n",
       "  background-color: var(--sklearn-color-fitted-level-3);\n",
       "  color: var(--sklearn-color-background);\n",
       "  text-decoration: none;\n",
       "}\n",
       "\n",
       "/* Span, style for the box shown on hovering the info icon */\n",
       ".sk-estimator-doc-link span {\n",
       "  display: none;\n",
       "  z-index: 9999;\n",
       "  position: relative;\n",
       "  font-weight: normal;\n",
       "  right: .2ex;\n",
       "  padding: .5ex;\n",
       "  margin: .5ex;\n",
       "  width: min-content;\n",
       "  min-width: 20ex;\n",
       "  max-width: 50ex;\n",
       "  color: var(--sklearn-color-text);\n",
       "  box-shadow: 2pt 2pt 4pt #999;\n",
       "  /* unfitted */\n",
       "  background: var(--sklearn-color-unfitted-level-0);\n",
       "  border: .5pt solid var(--sklearn-color-unfitted-level-3);\n",
       "}\n",
       "\n",
       ".sk-estimator-doc-link.fitted span {\n",
       "  /* fitted */\n",
       "  background: var(--sklearn-color-fitted-level-0);\n",
       "  border: var(--sklearn-color-fitted-level-3);\n",
       "}\n",
       "\n",
       ".sk-estimator-doc-link:hover span {\n",
       "  display: block;\n",
       "}\n",
       "\n",
       "/* \"?\"-specific style due to the `<a>` HTML tag */\n",
       "\n",
       "#sk-container-id-2 a.estimator_doc_link {\n",
       "  float: right;\n",
       "  font-size: 1rem;\n",
       "  line-height: 1em;\n",
       "  font-family: monospace;\n",
       "  background-color: var(--sklearn-color-background);\n",
       "  border-radius: 1rem;\n",
       "  height: 1rem;\n",
       "  width: 1rem;\n",
       "  text-decoration: none;\n",
       "  /* unfitted */\n",
       "  color: var(--sklearn-color-unfitted-level-1);\n",
       "  border: var(--sklearn-color-unfitted-level-1) 1pt solid;\n",
       "}\n",
       "\n",
       "#sk-container-id-2 a.estimator_doc_link.fitted {\n",
       "  /* fitted */\n",
       "  border: var(--sklearn-color-fitted-level-1) 1pt solid;\n",
       "  color: var(--sklearn-color-fitted-level-1);\n",
       "}\n",
       "\n",
       "/* On hover */\n",
       "#sk-container-id-2 a.estimator_doc_link:hover {\n",
       "  /* unfitted */\n",
       "  background-color: var(--sklearn-color-unfitted-level-3);\n",
       "  color: var(--sklearn-color-background);\n",
       "  text-decoration: none;\n",
       "}\n",
       "\n",
       "#sk-container-id-2 a.estimator_doc_link.fitted:hover {\n",
       "  /* fitted */\n",
       "  background-color: var(--sklearn-color-fitted-level-3);\n",
       "}\n",
       "</style><div id=\"sk-container-id-2\" class=\"sk-top-container\"><div class=\"sk-text-repr-fallback\"><pre>LogisticRegression(max_iter=500)</pre><b>In a Jupyter environment, please rerun this cell to show the HTML representation or trust the notebook. <br />On GitHub, the HTML representation is unable to render, please try loading this page with nbviewer.org.</b></div><div class=\"sk-container\" hidden><div class=\"sk-item\"><div class=\"sk-estimator fitted sk-toggleable\"><input class=\"sk-toggleable__control sk-hidden--visually\" id=\"sk-estimator-id-2\" type=\"checkbox\" checked><label for=\"sk-estimator-id-2\" class=\"sk-toggleable__label fitted sk-toggleable__label-arrow fitted\">&nbsp;&nbsp;LogisticRegression<a class=\"sk-estimator-doc-link fitted\" rel=\"noreferrer\" target=\"_blank\" href=\"https://scikit-learn.org/1.4/modules/generated/sklearn.linear_model.LogisticRegression.html\">?<span>Documentation for LogisticRegression</span></a><span class=\"sk-estimator-doc-link fitted\">i<span>Fitted</span></span></label><div class=\"sk-toggleable__content fitted\"><pre>LogisticRegression(max_iter=500)</pre></div> </div></div></div></div>"
      ],
      "text/plain": [
       "LogisticRegression(max_iter=500)"
      ]
     },
     "execution_count": 82,
     "metadata": {},
     "output_type": "execute_result"
    }
   ],
   "source": [
    "model=LogisticRegression(max_iter=500)\n",
    "model.fit(X_smote,y_smote)"
   ]
  },
  {
   "cell_type": "code",
   "execution_count": 83,
   "id": "f634ba48-6a6b-4cca-9b46-51e7ebba6fe6",
   "metadata": {},
   "outputs": [
    {
     "data": {
      "text/plain": [
       "0.8473573992820104"
      ]
     },
     "execution_count": 83,
     "metadata": {},
     "output_type": "execute_result"
    }
   ],
   "source": [
    "model.score(X_smote,y_smote)"
   ]
  },
  {
   "cell_type": "code",
   "execution_count": 84,
   "id": "76825f1d-588b-4a52-a0ec-75a2cac1474b",
   "metadata": {},
   "outputs": [],
   "source": [
    "y_predict=model.predict(X_smote)"
   ]
  },
  {
   "cell_type": "code",
   "execution_count": 85,
   "id": "3a245b89-ebf4-42e2-bb27-b798b6a2b819",
   "metadata": {},
   "outputs": [
    {
     "data": {
      "text/html": [
       "<div>\n",
       "<style scoped>\n",
       "    .dataframe tbody tr th:only-of-type {\n",
       "        vertical-align: middle;\n",
       "    }\n",
       "\n",
       "    .dataframe tbody tr th {\n",
       "        vertical-align: top;\n",
       "    }\n",
       "\n",
       "    .dataframe thead th {\n",
       "        text-align: right;\n",
       "    }\n",
       "</style>\n",
       "<table border=\"1\" class=\"dataframe\">\n",
       "  <thead>\n",
       "    <tr style=\"text-align: right;\">\n",
       "      <th>col_0</th>\n",
       "      <th>0</th>\n",
       "      <th>1</th>\n",
       "    </tr>\n",
       "    <tr>\n",
       "      <th>row_0</th>\n",
       "      <th></th>\n",
       "      <th></th>\n",
       "    </tr>\n",
       "  </thead>\n",
       "  <tbody>\n",
       "    <tr>\n",
       "      <th>0</th>\n",
       "      <td>42224</td>\n",
       "      <td>7916</td>\n",
       "    </tr>\n",
       "    <tr>\n",
       "      <th>1</th>\n",
       "      <td>7391</td>\n",
       "      <td>42749</td>\n",
       "    </tr>\n",
       "  </tbody>\n",
       "</table>\n",
       "</div>"
      ],
      "text/plain": [
       "col_0      0      1\n",
       "row_0              \n",
       "0      42224   7916\n",
       "1       7391  42749"
      ]
     },
     "execution_count": 85,
     "metadata": {},
     "output_type": "execute_result"
    }
   ],
   "source": [
    "pd.crosstab(y_smote,y_predict)"
   ]
  },
  {
   "cell_type": "code",
   "execution_count": 86,
   "id": "d4b6aff3-f7e8-4b7b-a14d-6723f9ff6ec8",
   "metadata": {},
   "outputs": [
    {
     "data": {
      "text/plain": [
       "0.8458117271639409"
      ]
     },
     "execution_count": 86,
     "metadata": {},
     "output_type": "execute_result"
    }
   ],
   "source": [
    "# Accuracy\n",
    "(42677+42141)/(7463+7999+42677+42141)"
   ]
  },
  {
   "cell_type": "code",
   "execution_count": 87,
   "id": "bcdc0c90-0b56-4895-a354-52eba8966d0a",
   "metadata": {},
   "outputs": [
    {
     "name": "stdout",
     "output_type": "stream",
     "text": [
      "              precision    recall  f1-score   support\n",
      "\n",
      "           0       0.85      0.84      0.85     50140\n",
      "           1       0.84      0.85      0.85     50140\n",
      "\n",
      "    accuracy                           0.85    100280\n",
      "   macro avg       0.85      0.85      0.85    100280\n",
      "weighted avg       0.85      0.85      0.85    100280\n",
      "\n"
     ]
    }
   ],
   "source": [
    "print(classification_report(y_smote,y_predict))"
   ]
  },
  {
   "cell_type": "code",
   "execution_count": 88,
   "id": "1fd6c04e-dbf3-4810-9237-3ed9df48f983",
   "metadata": {},
   "outputs": [],
   "source": [
    "# After applying SMOTE recall and f1-score improved drastically\n",
    "\n",
    "# Before SMOTE\n",
    "# Recall and F1 Score for minority class is not good\n",
    "# 1       0.82      0.25      0.38      4668\n",
    "# 1      recall      0.25     f1-score 0.38    \n",
    "\n",
    "# After SMOTE\n",
    "# 1       0.84      0.85      0.85     50140\n",
    "# 1      recall     0.85    f1-score 0.85 "
   ]
  },
  {
   "cell_type": "code",
   "execution_count": null,
   "id": "ef327f7a-a57b-45a7-9c29-e36883d9dbb8",
   "metadata": {},
   "outputs": [],
   "source": []
  }
 ],
 "metadata": {
  "kernelspec": {
   "display_name": "Python 3 (ipykernel)",
   "language": "python",
   "name": "python3"
  },
  "language_info": {
   "codemirror_mode": {
    "name": "ipython",
    "version": 3
   },
   "file_extension": ".py",
   "mimetype": "text/x-python",
   "name": "python",
   "nbconvert_exporter": "python",
   "pygments_lexer": "ipython3",
   "version": "3.12.4"
  }
 },
 "nbformat": 4,
 "nbformat_minor": 5
}
